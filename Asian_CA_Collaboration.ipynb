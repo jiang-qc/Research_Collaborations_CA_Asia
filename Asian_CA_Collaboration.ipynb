{
 "cells": [
  {
   "cell_type": "markdown",
   "id": "1d9ed21a-846f-40a7-973f-8816120e3c4c",
   "metadata": {},
   "source": [
    "# Research Collaborations Between Scholars Based in Canada and Asia"
   ]
  },
  {
   "cell_type": "markdown",
   "id": "7f59f8e9-3422-4d74-aee6-896cd9928cf0",
   "metadata": {},
   "source": [
    "In this notebook we will query the OpenAlex API to investigate **Research Collaborations Between Scholars Based in Canada and Asia**"
   ]
  },
  {
   "cell_type": "markdown",
   "id": "b09a5617-1d23-4093-8836-1b87048106b7",
   "metadata": {},
   "source": [
    "Let's start by dividing the process into smaller, more manageable steps:\n",
    "\n",
    "1. First we need to get all publications that:\n",
    "    - have more than one authors\n",
    "    - at least one of the authors is from Canada\n",
    "    - at least one of the authors is from Asia countries\n",
    "2. Then we validate and clean the data for further investigation.\n",
    "3. Finally we can visualize our findings to answer certain questions"
   ]
  },
  {
   "cell_type": "markdown",
   "id": "58c01be1-1a23-44d6-bf00-18b9bf429024",
   "metadata": {},
   "source": [
    "***"
   ]
  },
  {
   "cell_type": "markdown",
   "id": "08743d58-6524-4d10-a5fb-15edad681224",
   "metadata": {},
   "source": [
    "## 1. Identify collaborated publications from Canada and Asia countries."
   ]
  },
  {
   "cell_type": "markdown",
   "id": "9687f180-f23c-4ed0-9031-b35b691afa1b",
   "metadata": {},
   "source": [
    "1. First We should identify the `joint publications by Canadian/Asian authors`. From the [entity objects description](https://docs.openalex.org/about-the-data), we can defined these collaborations by [Authorship](https://docs.openalex.org/about-the-data/work#authorships) Objects:\n",
    "- at least one of the authors' institutions' is located in **Canada**\n",
    "- at least one of the authors' institutions' is located in **Asia**\n",
    "\n",
    "2. Then we build the URL to get the data we want\n",
    "- The entity type that we want is `work`\n",
    "- The filters we want to use are:\n",
    "    1. Institutions: `country_code: \"CA\"` + `country_code: \"(Asian country)\"`"
   ]
  },
  {
   "cell_type": "markdown",
   "id": "6fb43a05-117c-4afc-8726-75f5ff46b254",
   "metadata": {},
   "source": [
    "<br><br><br>"
   ]
  },
  {
   "cell_type": "markdown",
   "id": "3ac755af-ec06-4287-9173-61cf73715a4e",
   "metadata": {},
   "source": [
    "<br><br><br>"
   ]
  },
  {
   "cell_type": "markdown",
   "id": "39cd8500-c55b-4658-82f9-869572710a6b",
   "metadata": {},
   "source": [
    "## 2. Data Selection"
   ]
  },
  {
   "cell_type": "markdown",
   "id": "f4c67421-7630-404b-8060-75ab7e32c859",
   "metadata": {},
   "source": [
    "### 2.1. Get Asian Countries Code."
   ]
  },
  {
   "cell_type": "markdown",
   "id": "6783b4b7-bcbc-401e-91e1-fc648128fd46",
   "metadata": {},
   "source": [
    "We use the [ISO two-letter country code](https://en.wikipedia.org/wiki/ISO_3166-1_alpha-2) to represent the countries. We should first get a list of all Asia countries' `country_code`:"
   ]
  },
  {
   "cell_type": "code",
   "execution_count": 2,
   "id": "9e14dbb5-8a16-4989-b66e-0d452952df62",
   "metadata": {},
   "outputs": [],
   "source": [
    "asia_country_code = []"
   ]
  },
  {
   "cell_type": "markdown",
   "id": "42cdb7b5-a9ff-4547-8f4e-0311c891d32a",
   "metadata": {},
   "source": [
    "These unstructured text below are copied from the [website](https://www.countrycallingcodes.com/iso-country-codes/asia-codes.php). We should first extract the `2 Letter Country Code`."
   ]
  },
  {
   "cell_type": "code",
   "execution_count": 3,
   "id": "2ffe661b-c980-4f23-9bbc-2a150abace04",
   "metadata": {},
   "outputs": [],
   "source": [
    "asia_codes = '''\n",
    "Afghanistan\tAF\tAFG\t.af\n",
    "Armenia\tAM\tARM\t.am\n",
    "Azerbaijan\tAZ\tAZE\t.az\n",
    "Bahrain\tBH\tBHR\t.bh\n",
    "Bangladesh\tBD\tBGD\t.bd\n",
    "Bhutan\tBT\tBTN\t.bt\n",
    "Brunei\tBN\tBRN\t.bn\n",
    "Cambodia\tKH\tKHM\t.kh\n",
    "China\tCN\tCHN\t.cn\n",
    "Christmas Island\tCX\tCXR\t.cx\n",
    "Cocos Islands\tCC\tCCK\t.cc\n",
    "Diego Garcia\tIO\tIOT\t.io\n",
    "Georgia\tGE\tGEO\t.ge\n",
    "Hong Kong\tHK\tHKG\t.hk\n",
    "India\tIN\tIND\t.in\n",
    "Indonesia\tID\tIDN\t.id\n",
    "Iran\tIR\tIRN\t.ir\n",
    "Iraq\tIQ\tIRQ\t.iq\n",
    "Israel\tIL\tISR\t.il\n",
    "Japan\tJP\tJPN\t.jp\n",
    "Jordan\tJO\tJOR\t.jo\n",
    "Kazakhstan\tKZ\tKAZ\t.kz\n",
    "Kuwait\tKW\tKWT\t.kw\n",
    "Kyrgyzstan\tKG\tKGZ\t.kg\n",
    "Laos\tLA\tLAO\t.la\n",
    "Lebanon\tLB\tLBN\t.lb\n",
    "Macau\tMO\tMAC\t.mo\n",
    "Malaysia\tMY\tMYS\t.my\n",
    "Maldives\tMV\tMDV\t.mv\n",
    "Mongolia\tMN\tMNG\t.mn\n",
    "Myanmar\tMM\tMMR\t.mm\n",
    "Nepal\tNP\tNPL\t.np\n",
    "North Korea\tKP\tPRK\t.kp\n",
    "Oman\tOM\tOMN\t.om\n",
    "Pakistan\tPK\tPAK\t.pk\n",
    "Palestine\tPS\tPSE\t.ps\n",
    "Philippines\tPH\tPHL\t.ph\n",
    "Qatar\tQA\tQAT\t.qa\n",
    "Saudi Arabia\tSA\tSAU\t.sa\n",
    "Singapore\tSG\tSGP\t.sg\n",
    "South Korea\tKR\tKOR\t.kr\n",
    "Sri Lanka\tLK\tLKA\t.lk\n",
    "Syria\tSY\tSYR\t.sy\n",
    "Taiwan\tTW\tTWN\t.tw\n",
    "Tajikistan\tTJ\tTJK\t.tj\n",
    "Thailand\tTH\tTHA\t.th\n",
    "Turkey\tTR\tTUR\t.tr\n",
    "Turkmenistan\tTM\tTKM\t.tm\n",
    "United Arab Emirates\tAE\tARE\t.ae\n",
    "Uzbekistan\tUZ\tUZB\t.uz\n",
    "Vietnam\tVN\tVNM\t.vn\n",
    "Yemen\tYE\tYEM\t.ye\n",
    "'''\n",
    "\n",
    "\n",
    "for i, code in enumerate(asia_codes.split('\\t')):\n",
    "    if i%3 == 1:\n",
    "        asia_country_code.append(code)"
   ]
  },
  {
   "cell_type": "code",
   "execution_count": 4,
   "id": "b3e6a062-75fb-41a9-9075-7f2cc08aa5d1",
   "metadata": {},
   "outputs": [
    {
     "name": "stdout",
     "output_type": "stream",
     "text": [
      "There are 52 countries in Asia.\n"
     ]
    }
   ],
   "source": [
    "print(f'There are {len(asia_country_code)} countries in Asia.')"
   ]
  },
  {
   "cell_type": "markdown",
   "id": "d920e073-20c6-48a6-a480-0a9e23b6defb",
   "metadata": {},
   "source": [
    "**🔻 Chalenge 1: We can only combine up to 50 values for a given filter with the \"OR\" operator: pipe symbol (|)**\n",
    "\n",
    "🟩 Because of the limitation, we should divide these 52 countries into 50 and 2, and connect them with the pipe symbol (|), separately."
   ]
  },
  {
   "cell_type": "code",
   "execution_count": 5,
   "id": "7f018a22-8319-462d-93eb-55379fb89cf0",
   "metadata": {},
   "outputs": [
    {
     "data": {
      "text/plain": [
       "'AF|AM|AZ|BH|BD|BT|BN|KH|CN|CX|CC|IO|GE|HK|IN|ID|IR|IQ|IL|JP|JO|KZ|KW|KG|LA|LB|MO|MY|MV|MN|MM|NP|KP|OM|PK|PS|PH|QA|SA|SG|KR|LK|SY|TW|TJ|TH|TR|TM|AE|UZ'"
      ]
     },
     "execution_count": 5,
     "metadata": {},
     "output_type": "execute_result"
    }
   ],
   "source": [
    "asia_country_code_50 = '|'.join(asia_country_code[:50])\n",
    "asia_country_code_50"
   ]
  },
  {
   "cell_type": "code",
   "execution_count": 6,
   "id": "f15b231b-d71b-4aa1-bc76-eca2f27a20e7",
   "metadata": {},
   "outputs": [
    {
     "data": {
      "text/plain": [
       "'VN|YE'"
      ]
     },
     "execution_count": 6,
     "metadata": {},
     "output_type": "execute_result"
    }
   ],
   "source": [
    "asia_country_code_2 = '|'.join(asia_country_code[-2:])\n",
    "asia_country_code_2"
   ]
  },
  {
   "cell_type": "markdown",
   "id": "418c523a-d7b3-4a26-8cd8-03988570b041",
   "metadata": {},
   "source": [
    "<br><br><br>"
   ]
  },
  {
   "cell_type": "markdown",
   "id": "f65c7096-2548-405c-aae3-1887e6bcbc66",
   "metadata": {},
   "source": [
    "### 2.2. Build the URL for Request"
   ]
  },
  {
   "cell_type": "markdown",
   "id": "47ec891e-7c6e-4bde-b5e7-27cc6f89889e",
   "metadata": {},
   "source": [
    "#### 2.2.1. The URL for The First 50 Asian Countries"
   ]
  },
  {
   "cell_type": "markdown",
   "id": "28007007-fba8-4efb-9341-4bbc6902f737",
   "metadata": {},
   "source": [
    "Now we need to put the URL together from these parts as follows:\n",
    "- Starting with the base URL `https://api.openalex.org/`, we add the entity type to it : `https://api.openalex.org/works`\n",
    "\n",
    "- All criteria need to go into the query parameter filter that is added after a question mark: `https://api.openalex.org/works?filter=`\n",
    "\n",
    "- Finally we take the criteria we specified before and concatenate them using commas as separators. This will be our filter value: `https://api.openalex.org/works?filter=country_code:CA,authorships.institutions.country_code:{Asian_Country_Code_Connected_with_Pipe}`\n",
    "\n",
    "\n",
    "- Add the `mailto=you@example.com` parameter in your API request, [as suggested by the website](https://docs.openalex.org/api#the-polite-pool): `https://api.openalex.org/works?filter=country_code:CA,authorships.institutions.country_code:{Asian_Country_Code_Connected_with_Pipe}mailto=jiangqichao564@gmail.com`"
   ]
  },
  {
   "cell_type": "code",
   "execution_count": 7,
   "id": "50cdcece-8068-43b9-982f-53e35b0e5a3b",
   "metadata": {},
   "outputs": [
    {
     "name": "stdout",
     "output_type": "stream",
     "text": [
      "complete URL:\n",
      "  https://api.openalex.org/works?filter=authorships.institutions.country_code:CA,authorships.institutions.country_code:AF|AM|AZ|BH|BD|BT|BN|KH|CN|CX|CC|IO|GE|HK|IN|ID|IR|IQ|IL|JP|JO|KZ|KW|KG|LA|LB|MO|MY|MV|MN|MM|NP|KP|OM|PK|PS|PH|QA|SA|SG|KR|LK|SY|TW|TJ|TH|TR|TM|AE|UZ&per-page=200&cursor=*\n"
     ]
    }
   ],
   "source": [
    "CA_filter = 'authorships.institutions.country_code:CA'\n",
    "\n",
    "Asia_filter_50 = f'authorships.institutions.country_code:' + asia_country_code_50\n",
    "\n",
    "mailto = 'mailto=jiangqichao564@gmail.com'\n",
    "# By default there are 25 results per page; \n",
    "# Here we use the per-page parameter to change that to 200(the max)\n",
    "paging = 'per-page=200'\n",
    "cursor = 'cursor=*'\n",
    "\n",
    "# put the URL together\n",
    "filtered_works_url_50 = f'https://api.openalex.org/works?filter={\",\".join((CA_filter, Asia_filter_50))}'\n",
    "works_cursor_url_50 = f'{filtered_works_url_50}&{paging}&{cursor}'\n",
    "print(f'complete URL:\\n  {works_cursor_url_50}')"
   ]
  },
  {
   "cell_type": "markdown",
   "id": "71efb57d-4d86-4e39-a923-15c80999bd54",
   "metadata": {},
   "source": [
    "#### 2.2.2. The URL for Last 2 Asian Countries"
   ]
  },
  {
   "cell_type": "code",
   "execution_count": 8,
   "id": "9aaa84a3-4d35-446a-a5b9-fe07b00cc2a4",
   "metadata": {},
   "outputs": [
    {
     "name": "stdout",
     "output_type": "stream",
     "text": [
      "complete URL:\n",
      "  https://api.openalex.org/works?filter=authorships.institutions.country_code:CA,authorships.institutions.country_code:VN|YE,authorships.institutions.country_code:!AF|AM|AZ|BH|BD|BT|BN|KH|CN|CX|CC|IO|GE|HK|IN|ID|IR|IQ|IL|JP|JO|KZ|KW|KG|LA|LB|MO|MY|MV|MN|MM|NP|KP|OM|PK|PS|PH|QA|SA|SG|KR|LK|SY|TW|TJ|TH|TR|TM|AE|UZ&per-page=200&cursor=*\n"
     ]
    }
   ],
   "source": [
    "Asia_filter_2 = 'authorships.institutions.country_code:' + asia_country_code_2\n",
    "# exclude the intersection of works with 50 Asian countries\n",
    "Asia_filter_50_neg = 'authorships.institutions.country_code:!' + asia_country_code_50\n",
    "cursor = 'cursor=*'\n",
    "# put the URL together\n",
    "filtered_works_url_2 = f'https://api.openalex.org/works?filter={\",\".join((CA_filter, Asia_filter_2, Asia_filter_50_neg))}'\n",
    "works_cursor_url_2 = f'{filtered_works_url_2}&{paging}&{cursor}'\n",
    "print(f'complete URL:\\n  {works_cursor_url_2}')"
   ]
  },
  {
   "cell_type": "markdown",
   "id": "22560da0-8dd2-4b46-a8e2-1b48d7699492",
   "metadata": {},
   "source": [
    "<br><br><br>"
   ]
  },
  {
   "cell_type": "markdown",
   "id": "10225391-19bc-4e1a-981a-c8010ca0fdbe",
   "metadata": {},
   "source": [
    "### 2.3. Get the Meta Information of Works "
   ]
  },
  {
   "cell_type": "markdown",
   "id": "d443300a-7d5e-4d51-9f6b-d0f265fb683a",
   "metadata": {},
   "source": [
    "#### 2.3.1. The First 50 Asian Countries"
   ]
  },
  {
   "cell_type": "code",
   "execution_count": 9,
   "id": "51375d41-6800-4e3b-a933-245b0a8b1d66",
   "metadata": {},
   "outputs": [
    {
     "name": "stdout",
     "output_type": "stream",
     "text": [
      "dict_keys(['meta', 'results', 'group_by'])\n"
     ]
    }
   ],
   "source": [
    "import requests, json\n",
    "response_50 = requests.get(works_cursor_url_50)\n",
    "response_50.raise_for_status()\n",
    "CA_Asia_works_50 = response_50.json()\n",
    "\n",
    "import pprint\n",
    "pprint.pprint(CA_Asia_works_50.keys())"
   ]
  },
  {
   "cell_type": "code",
   "execution_count": 10,
   "id": "d5af0fe0-ada0-4539-b674-76dab8ed070e",
   "metadata": {},
   "outputs": [
    {
     "data": {
      "text/plain": [
       "{'count': 261057,\n",
       " 'db_response_time_ms': 200,\n",
       " 'page': None,\n",
       " 'per_page': 200,\n",
       " 'next_cursor': 'IlsxNjYwNTIxNjAwMDAwLCAnaHR0cHM6Ly9vcGVuYWxleC5vcmcvVzQyOTE3MTgxMjgnXSI='}"
      ]
     },
     "execution_count": 10,
     "metadata": {},
     "output_type": "execute_result"
    }
   ],
   "source": [
    "CA_Asia_works_50['meta']"
   ]
  },
  {
   "cell_type": "code",
   "execution_count": 11,
   "id": "7043424e-2c48-4088-9adc-3f1488602433",
   "metadata": {},
   "outputs": [],
   "source": [
    "count_50 = CA_Asia_works_50['meta']['count']"
   ]
  },
  {
   "cell_type": "code",
   "execution_count": 12,
   "id": "0dc122cb-21b6-4adf-b49c-95b6f261323b",
   "metadata": {},
   "outputs": [
    {
     "name": "stdout",
     "output_type": "stream",
     "text": [
      "There are 261057 collaborated works with the first 50 Asian countries\n"
     ]
    }
   ],
   "source": [
    "print(f'There are {count_50} collaborated works with the first 50 Asian countries')"
   ]
  },
  {
   "cell_type": "markdown",
   "id": "3a24e36a-cdbf-4d45-9f5c-edafad979e12",
   "metadata": {},
   "source": [
    "Let's estimate how long does it take to query all the data."
   ]
  },
  {
   "cell_type": "code",
   "execution_count": 13,
   "id": "bde28eac-f3bd-4bc2-8b85-10d28d1a753e",
   "metadata": {},
   "outputs": [
    {
     "name": "stdout",
     "output_type": "stream",
     "text": [
      "It takes around 4.35095 minutes to crawl all the data we need for analysis.\n"
     ]
    }
   ],
   "source": [
    "minutes = CA_Asia_works_50['meta']['db_response_time_ms']/1000 * (CA_Asia_works_50['meta']['count']/200)/60\n",
    "print(f'It takes around {minutes} minutes to crawl all the data we need for analysis.')"
   ]
  },
  {
   "cell_type": "markdown",
   "id": "e2a8d5c5-80f8-424e-95b9-1be92a9270ff",
   "metadata": {},
   "source": [
    "The estimated time looks reasonable. If it takes too long, we should probably [download the snapshot](https://docs.openalex.org/download-snapshot).\n",
    "\n",
    "The `results` object has all the information we need."
   ]
  },
  {
   "cell_type": "code",
   "execution_count": 14,
   "id": "9f269a6d-4483-4d42-8671-9723d57ae58b",
   "metadata": {},
   "outputs": [
    {
     "name": "stdout",
     "output_type": "stream",
     "text": [
      "<class 'list'>\n",
      "200\n"
     ]
    }
   ],
   "source": [
    "print(type(CA_Asia_works_50['results']))\n",
    "print(len(CA_Asia_works_50['results']))"
   ]
  },
  {
   "cell_type": "markdown",
   "id": "f9b3d4fa-e0e1-4803-8f0a-fdbe0503f2da",
   "metadata": {},
   "source": [
    "#### 2.3.2. The Last 2 Asian Countries"
   ]
  },
  {
   "cell_type": "code",
   "execution_count": 15,
   "id": "3ea82392-cc02-41e2-8f26-ba8e338e165d",
   "metadata": {},
   "outputs": [
    {
     "name": "stdout",
     "output_type": "stream",
     "text": [
      "dict_keys(['meta', 'results', 'group_by'])\n"
     ]
    }
   ],
   "source": [
    "response_2 = requests.get(works_cursor_url_2)\n",
    "response_2.raise_for_status()\n",
    "CA_Asia_works_2 = response_2.json()\n",
    "\n",
    "pprint.pprint(CA_Asia_works_2.keys())"
   ]
  },
  {
   "cell_type": "code",
   "execution_count": 16,
   "id": "68df9075-cd24-4ac3-a914-cb4a3c6f79bd",
   "metadata": {},
   "outputs": [
    {
     "data": {
      "text/plain": [
       "{'count': 919,\n",
       " 'db_response_time_ms': 140,\n",
       " 'page': None,\n",
       " 'per_page': 200,\n",
       " 'next_cursor': 'IlsxNjA2MzQ4ODAwMDAwLCAnaHR0cHM6Ly9vcGVuYWxleC5vcmcvVzMxMjc2MjEzOTYnXSI='}"
      ]
     },
     "execution_count": 16,
     "metadata": {},
     "output_type": "execute_result"
    }
   ],
   "source": [
    "CA_Asia_works_2['meta']"
   ]
  },
  {
   "cell_type": "code",
   "execution_count": 17,
   "id": "d99e7f05-c6ef-458e-b644-3033af0207a0",
   "metadata": {},
   "outputs": [],
   "source": [
    "count_2 = CA_Asia_works_2['meta']['count']"
   ]
  },
  {
   "cell_type": "code",
   "execution_count": 18,
   "id": "aa62549d-9edd-47b5-9e39-98b072fa6154",
   "metadata": {},
   "outputs": [
    {
     "name": "stdout",
     "output_type": "stream",
     "text": [
      "There are 919 collaborated publications with the last two Asain countries\n"
     ]
    }
   ],
   "source": [
    "print(f'There are {count_2} collaborated publications with the last two Asain countries')"
   ]
  },
  {
   "cell_type": "markdown",
   "id": "9bf3b2b0-d933-4944-8409-addeff02bc26",
   "metadata": {},
   "source": [
    "The number looks reasonable."
   ]
  },
  {
   "cell_type": "markdown",
   "id": "180a503c-33af-4c39-9941-43d312400d7e",
   "metadata": {},
   "source": [
    "<br><br><br>"
   ]
  },
  {
   "cell_type": "markdown",
   "id": "f7db5d8c-85e6-4e3b-aac7-d0d623043fe3",
   "metadata": {},
   "source": [
    "### 2.4. Use [Cursor Paging](https://docs.openalex.org/api#paging) to Access Data"
   ]
  },
  {
   "cell_type": "markdown",
   "id": "b53070b1-8702-4338-a83e-4c2fb194deaa",
   "metadata": {},
   "source": [
    "The pipeline below is to get all the data we need and store them in a list of dictionaries `all_works_50`.\n",
    "\n",
    "Because of the limitation of the system server, we only use the 100000 publications for analysis."
   ]
  },
  {
   "cell_type": "markdown",
   "id": "5ad0a2e1-9da7-4bfd-840e-156463a9c8d2",
   "metadata": {},
   "source": [
    "#### 2.4.1. The First 50 Asian Countries"
   ]
  },
  {
   "cell_type": "code",
   "execution_count": 19,
   "id": "647cfd8c-c41a-4d4a-a180-47f9c9122374",
   "metadata": {
    "tags": []
   },
   "outputs": [
    {
     "name": "stdout",
     "output_type": "stream",
     "text": [
      "50000 done!0000 of 50000\n"
     ]
    }
   ],
   "source": [
    "all_works_50 = [] + CA_Asia_works_50['results']\n",
    "cursor = '*'\n",
    "# while the cursor is not NULL at the last page (NOT NULL)\n",
    "while cursor:   # --> should use `while: CA_Asia_works_2['meta']['next_cursor']:` to avoid the TypeError\n",
    "                # but the queried data will be the same\n",
    "    # get the 200 works from next page\n",
    "    cursor = CA_Asia_works_50['meta']['next_cursor']\n",
    "    next_page_url_50 = works_cursor_url_50[:-1] + cursor\n",
    "    \n",
    "    response_50 = requests.get(next_page_url_50)\n",
    "    response_50.raise_for_status()\n",
    "    CA_Asia_works_50 = response_50.json()\n",
    "    #pprint.pprint(CA_Asia_works_50['meta'])\n",
    "    all_works_50 += CA_Asia_works_50['results']\n",
    "    \n",
    "    # print the process\n",
    "    print(\"Progress: %u of %u\" % (len(all_works_50), 50000),end=\"\\r\")\n",
    "    \n",
    "    # only use the most recent 50000 publications for analysis\n",
    "    if len(all_works_50) >= 50000:\n",
    "        break\n",
    "print(str(len(all_works_50)) + ' done!')"
   ]
  },
  {
   "cell_type": "code",
   "execution_count": 21,
   "id": "33a42321-b58a-4ee6-82ea-01f03efdbf4b",
   "metadata": {},
   "outputs": [
    {
     "data": {
      "text/plain": [
       "50000"
      ]
     },
     "execution_count": 21,
     "metadata": {},
     "output_type": "execute_result"
    }
   ],
   "source": [
    "len(all_works_50)"
   ]
  },
  {
   "cell_type": "markdown",
   "id": "2df35b78-105f-4554-98b6-4ca4e529515e",
   "metadata": {},
   "source": [
    "**When `next_cursor == None`, we've queried all the data.**"
   ]
  },
  {
   "cell_type": "markdown",
   "id": "cd888723-e38f-4203-af15-d336d30d900e",
   "metadata": {},
   "source": [
    "#### 2.4.2. The Last 2 Asian Countries\n",
    "\n",
    "The method to get the rest of the data is the same. We first append the queried data to the `all_works_2` list and combine it with `all_works`, in case something goes wrong at this step."
   ]
  },
  {
   "cell_type": "code",
   "execution_count": 57,
   "id": "5179aebe-5422-42fa-b5d6-a0fdc49c1e38",
   "metadata": {},
   "outputs": [
    {
     "name": "stdout",
     "output_type": "stream",
     "text": [
      "903 done! 903 of 903\n"
     ]
    }
   ],
   "source": [
    "all_works_2 = [] + CA_Asia_works_2['results']\n",
    "cursor = '*'\n",
    "# while the cursor is not NULL at the last page (NOT NULL)\n",
    "while CA_Asia_works_2['meta']['next_cursor']:\n",
    "    # get the 200 works from next page\n",
    "    cursor = CA_Asia_works_2['meta']['next_cursor']\n",
    "    next_page_url_2 = works_cursor_url_2[:-1] + cursor\n",
    "    \n",
    "    response_2 = requests.get(next_page_url_2)\n",
    "    response_2.raise_for_status()\n",
    "    CA_Asia_works_2 = response_2.json()\n",
    "    all_works_2 += CA_Asia_works_2['results']\n",
    "    \n",
    "    # print the process\n",
    "    print(\"Progress: %u of %u\" % (len(all_works_2), count_2),end=\"\\r\")\n",
    "print(str(len(all_works_2)) + ' done!')"
   ]
  },
  {
   "cell_type": "markdown",
   "id": "3b877604-56e3-460a-b716-775fc21ef105",
   "metadata": {},
   "source": [
    "#### 2.4.3. Integrate The Two Lists of Data\n",
    "\n",
    "We integrate the two list of data and export the data for future use. "
   ]
  },
  {
   "cell_type": "code",
   "execution_count": 74,
   "id": "f61172ad-14a4-4bd8-a001-4cccffa2810c",
   "metadata": {},
   "outputs": [
    {
     "name": "stdout",
     "output_type": "stream",
     "text": [
      "The data is queried in 2022-08-17 22:08:08.540042\n"
     ]
    }
   ],
   "source": [
    "import datetime\n",
    "now = datetime.datetime.now()\n",
    "print(f\"The data is queried in {now}\")"
   ]
  },
  {
   "cell_type": "code",
   "execution_count": 44,
   "id": "62c1bd0d-7c8e-44c7-9c77-6b86d472b0f9",
   "metadata": {},
   "outputs": [
    {
     "data": {
      "text/plain": [
       "261876"
      ]
     },
     "execution_count": 44,
     "metadata": {},
     "output_type": "execute_result"
    }
   ],
   "source": [
    "all_works_52 = all_works + all_works_2\n",
    "len(all_works_52)"
   ]
  },
  {
   "cell_type": "code",
   "execution_count": null,
   "id": "30c2d252-a8aa-49b6-ae49-23f9f6b651c1",
   "metadata": {},
   "outputs": [],
   "source": [
    "with open('Asia_CA_Collaboration.json', 'w', encoding='utf-8') as f:\n",
    "    json.dump(all_works_52, f, ensure_ascii=False, indent=4)"
   ]
  },
  {
   "cell_type": "markdown",
   "id": "c0cc52b3-4d3c-4f45-90d9-393549cce14d",
   "metadata": {},
   "source": [
    "**The kernel crashed when exporting the data. We will do our research with the partially exported data (50K publications). The publications should be sorted in inverse chronological order.**"
   ]
  },
  {
   "cell_type": "markdown",
   "id": "f39bf1a8-3cf3-49d0-89b4-d6e369cac9d1",
   "metadata": {},
   "source": [
    "The next step is to check the quality and validity of the data."
   ]
  },
  {
   "cell_type": "markdown",
   "id": "412b4856-333a-47fa-9ad7-dd9a0c389024",
   "metadata": {},
   "source": [
    "<br><br><br>"
   ]
  },
  {
   "cell_type": "markdown",
   "id": "f001240c-d44c-40f6-9ee7-f0e3199e45a1",
   "metadata": {},
   "source": [
    "<br><br><br>"
   ]
  },
  {
   "cell_type": "markdown",
   "id": "d54a1dad-033d-4dd1-8090-01510ded19b3",
   "metadata": {},
   "source": [
    "## 3. Data Validity and Quality"
   ]
  },
  {
   "cell_type": "markdown",
   "id": "35016457-78d7-4e8a-b67c-2804d7429a7f",
   "metadata": {},
   "source": [
    "**Load The Partially Exported Data**"
   ]
  },
  {
   "cell_type": "code",
   "execution_count": 44,
   "id": "537f694e-3871-4406-bd87-9c02af93af1a",
   "metadata": {},
   "outputs": [],
   "source": [
    "# load the partially exported data\n",
    "\n",
    "#import json\n",
    "#with open('Asia_CA_Collaboration.json', 'r') as f:\n",
    "#    partial_data = json.load(f)"
   ]
  },
  {
   "cell_type": "markdown",
   "id": "67a34c6c-2fc3-4113-a6f6-52bcb566246a",
   "metadata": {},
   "source": [
    "🔺 The data is still too large to load. Let's use the most recent 50000 publications to analyze."
   ]
  },
  {
   "cell_type": "code",
   "execution_count": null,
   "id": "07bd1619-e3f1-4f1d-85e3-f61e3451bc23",
   "metadata": {},
   "outputs": [],
   "source": [
    "# convert the Json file to data frame\n",
    "\n",
    "#from pandas import json_normalize\n",
    "\n",
    "#df = json_normalize(all_works_50)"
   ]
  },
  {
   "cell_type": "markdown",
   "id": "d163cfe7-3fef-4541-a6e9-2aba3a8af1de",
   "metadata": {},
   "source": [
    "The features below are what we should validate and examine to improve the data quality."
   ]
  },
  {
   "cell_type": "code",
   "execution_count": 22,
   "id": "5c93c50e-c0c4-43fc-95c6-ea5ba743f975",
   "metadata": {},
   "outputs": [
    {
     "data": {
      "text/plain": [
       "dict_keys(['id', 'doi', 'title', 'display_name', 'publication_year', 'publication_date', 'ids', 'host_venue', 'type', 'open_access', 'authorships', 'cited_by_count', 'biblio', 'is_retracted', 'is_paratext', 'concepts', 'mesh', 'alternate_host_venues', 'referenced_works', 'related_works', 'abstract_inverted_index', 'cited_by_api_url', 'counts_by_year', 'updated_date', 'created_date'])"
      ]
     },
     "execution_count": 22,
     "metadata": {},
     "output_type": "execute_result"
    }
   ],
   "source": [
    "all_works_50[0].keys()"
   ]
  },
  {
   "cell_type": "markdown",
   "id": "632677dd-066c-4137-a8ae-a2a649098375",
   "metadata": {},
   "source": [
    "### 3.1. Number of Institutions"
   ]
  },
  {
   "cell_type": "markdown",
   "id": "9ec8cf7e-cb81-4abb-b43e-55f9764c3537",
   "metadata": {},
   "source": [
    "**🔻 Challenge 2: There are authors that have more than one institutions (affiliations)**"
   ]
  },
  {
   "cell_type": "markdown",
   "id": "86718a44-c43c-4497-a46c-2f4e6c76eac9",
   "metadata": {},
   "source": [
    "Let's check the distribution of the number of institutions of the authors:"
   ]
  },
  {
   "cell_type": "code",
   "execution_count": 23,
   "id": "2b856bcc-50ed-41fc-8903-47ed1600023f",
   "metadata": {},
   "outputs": [
    {
     "name": "stdout",
     "output_type": "stream",
     "text": [
      "defaultdict(<class 'int'>, {1: 633781, 2: 40774, 3: 4923, 0: 50064, 4: 672, 5: 125, 6: 34, 10: 12, 7: 9, 8: 1, 17: 10, 36: 4})\n"
     ]
    }
   ],
   "source": [
    "from collections import defaultdict, OrderedDict\n",
    "num_institutions = defaultdict(int)\n",
    "for i in range(len(all_works_50)):\n",
    "    for author in all_works_50[i]['authorships']:\n",
    "        num_institutions[len(author['institutions'])] += 1\n",
    "print(num_institutions)"
   ]
  },
  {
   "cell_type": "code",
   "execution_count": 24,
   "id": "39704ad8-1afd-4b74-8579-6590959249f6",
   "metadata": {},
   "outputs": [
    {
     "data": {
      "text/plain": [
       "[<matplotlib.lines.Line2D at 0x7fa7cea5b970>]"
      ]
     },
     "execution_count": 24,
     "metadata": {},
     "output_type": "execute_result"
    },
    {
     "data": {
      "image/png": "[encoded data removed]",
      "text/plain": [
       "<Figure size 432x288 with 1 Axes>"
      ]
     },
     "metadata": {
      "needs_background": "light"
     },
     "output_type": "display_data"
    }
   ],
   "source": [
    "import matplotlib.pyplot as plt \n",
    "\n",
    "# Sort the dict by key for visualization\n",
    "num_institutions_sorted = OrderedDict(sorted(num_institutions.items()))\n",
    "\n",
    "plt.plot(num_institutions_sorted.keys(),num_institutions_sorted.values())"
   ]
  },
  {
   "cell_type": "markdown",
   "id": "e17ad8ec-aea6-4750-ad86-a5fdcfc9fdbf",
   "metadata": {},
   "source": [
    "<br><br><br>"
   ]
  },
  {
   "cell_type": "markdown",
   "id": "a0bdd635-af6f-49d3-93b7-c07ae05bd5ed",
   "metadata": {},
   "source": [
    "**🟡 invalid data: There are authors that have 0 affiliations**"
   ]
  },
  {
   "cell_type": "markdown",
   "id": "d0cf7339-23e0-40da-8aba-0c07682a6ba4",
   "metadata": {},
   "source": [
    "Let's look at the data in details."
   ]
  },
  {
   "cell_type": "code",
   "execution_count": 38,
   "id": "52f26fbf-47eb-4afb-82aa-483aafca4392",
   "metadata": {},
   "outputs": [
    {
     "name": "stdout",
     "output_type": "stream",
     "text": [
      "[{'author_position': 'first', 'author': {'id': 'https://openalex.org/A4281548280', 'display_name': 'Han Wang', 'orcid': None}, 'institutions': [{'id': 'https://openalex.org/I204553293', 'display_name': 'China University of Petroleum, Beijing', 'ror': 'https://ror.org/041qf4r12', 'country_code': 'CN', 'type': 'education'}, {'id': 'https://openalex.org/I154425047', 'display_name': 'University of Alberta', 'ror': 'https://ror.org/0160cpw27', 'country_code': 'CA', 'type': 'education'}], 'raw_affiliation_string': 'Key Laboratory of Unconventional Oil & Gas Development (China University of Petroleum (East China)), Ministry of Education, Qingdao 266580, P. R. China'}, {'author_position': 'middle', 'author': {'id': 'https://openalex.org/A4281548281', 'display_name': 'Yuliang Su', 'orcid': None}, 'institutions': [], 'raw_affiliation_string': None}, {'author_position': 'middle', 'author': {'id': 'https://openalex.org/A4281548282', 'display_name': 'Wendong Wang', 'orcid': None}, 'institutions': [], 'raw_affiliation_string': None}, {'author_position': 'middle', 'author': {'id': 'https://openalex.org/A4285984166', 'display_name': 'Zhehui Jin', 'orcid': None}, 'institutions': [], 'raw_affiliation_string': None}, {'author_position': 'last', 'author': {'id': 'https://openalex.org/A4285984167', 'display_name': 'Hong Chen', 'orcid': None}, 'institutions': [], 'raw_affiliation_string': None}]\n",
      "\n",
      "[{'author_position': 'first', 'author': {'id': 'https://openalex.org/A4290325663', 'display_name': 'Atef Ibrahim', 'orcid': None}, 'institutions': [{'id': 'https://openalex.org/I142608572', 'display_name': 'Prince Sattam Bin Abdulaziz University', 'ror': 'https://ror.org/04jt46d36', 'country_code': 'SA', 'type': 'education'}, {'id': 'https://openalex.org/I212119943', 'display_name': 'University of Victoria', 'ror': 'https://ror.org/04s5mat29', 'country_code': 'CA', 'type': 'education'}], 'raw_affiliation_string': 'Computer Engineering Department, College of Computer Engineering and Sciences, Prince Sattam Bin Abdulaziz University Alkharj, Saudi Arabia'}, {'author_position': 'last', 'author': {'id': 'https://openalex.org/A4290325664', 'display_name': 'Fayez Gebali', 'orcid': None}, 'institutions': [], 'raw_affiliation_string': None}]\n",
      "\n",
      "[{'author_position': 'first', 'author': {'id': 'https://openalex.org/A4283083794', 'display_name': 'Xiongfeng Hu', 'orcid': None}, 'institutions': [{'id': 'https://openalex.org/I90610280', 'display_name': 'South China University of Technology', 'ror': 'https://ror.org/0530pts50', 'country_code': 'CN', 'type': 'education'}, {'id': 'https://openalex.org/I154425047', 'display_name': 'University of Alberta', 'ror': 'https://ror.org/0160cpw27', 'country_code': 'CA', 'type': 'education'}], 'raw_affiliation_string': 'Guangdong Key Laboratory for Advanced Metallic Materials Processing, School of Mechanical and Automotive Engineering, South China University of Technology, Guangzhou 510640, China'}, {'author_position': 'middle', 'author': {'id': 'https://openalex.org/A4283083795', 'display_name': 'Shengguan Qu', 'orcid': None}, 'institutions': [], 'raw_affiliation_string': None}, {'author_position': 'middle', 'author': {'id': 'https://openalex.org/A4283083796', 'display_name': 'Zengtao Chen', 'orcid': None}, 'institutions': [], 'raw_affiliation_string': None}, {'author_position': 'middle', 'author': {'id': 'https://openalex.org/A4283083797', 'display_name': 'Peng Zhang', 'orcid': None}, 'institutions': [], 'raw_affiliation_string': None}, {'author_position': 'middle', 'author': {'id': 'https://openalex.org/A4283083798', 'display_name': 'Zhiyuan Lu', 'orcid': None}, 'institutions': [], 'raw_affiliation_string': None}, {'author_position': 'middle', 'author': {'id': 'https://openalex.org/A4283083799', 'display_name': 'Fuqiang Lai', 'orcid': None}, 'institutions': [], 'raw_affiliation_string': None}, {'author_position': 'middle', 'author': {'id': 'https://openalex.org/A4283083800', 'display_name': 'Chenfeng Duan', 'orcid': None}, 'institutions': [], 'raw_affiliation_string': None}, {'author_position': 'last', 'author': {'id': 'https://openalex.org/A4283083801', 'display_name': 'Xiaoqiang Li', 'orcid': None}, 'institutions': [], 'raw_affiliation_string': None}]\n",
      "\n"
     ]
    }
   ],
   "source": [
    "counter = 0\n",
    "for i in range(len(all_works_50)):\n",
    "    for author in all_works_50[i]['authorships']:\n",
    "        if len(author['institutions']) == 0:\n",
    "            counter += 1\n",
    "            print(all_works_50[i]['authorships'])\n",
    "            print()\n",
    "            break\n",
    "    if counter == 3:\n",
    "        break"
   ]
  },
  {
   "cell_type": "markdown",
   "id": "0aff6939-9343-4df8-a51e-888fdc5af95d",
   "metadata": {},
   "source": [
    "**After looking at the three examples, we found that: for those publications which have authors without institutions, their first author usually has multiple institutions (one in Canada, the other in Asia).**\n",
    "\n",
    "We can leave the challenge here and consider those publications as collaborations as well. We will come back to the problem after the collaborations are well defined. "
   ]
  },
  {
   "cell_type": "markdown",
   "id": "8e3e8073-ab42-4c8d-ae0f-0cb826d18474",
   "metadata": {},
   "source": [
    "<br><br><br>"
   ]
  },
  {
   "cell_type": "markdown",
   "id": "8e94b814-f9f8-42ed-ac26-1ec0a0aabd8c",
   "metadata": {},
   "source": [
    "### 3.2. Publication Year"
   ]
  },
  {
   "cell_type": "code",
   "execution_count": 39,
   "id": "0d4c1b5a-446d-4557-b2bd-0f5d184085b9",
   "metadata": {},
   "outputs": [
    {
     "name": "stdout",
     "output_type": "stream",
     "text": [
      "defaultdict(<class 'int'>, {2024: 2, 2023: 7, 2022: 14723, 2021: 29754, 2020: 5514})\n"
     ]
    }
   ],
   "source": [
    "publication_year = defaultdict(int)\n",
    "\n",
    "for i in range(len(all_works_50)):\n",
    "    publication_year[all_works_50[i]['publication_year']] += 1\n",
    "print(publication_year)"
   ]
  },
  {
   "cell_type": "code",
   "execution_count": 40,
   "id": "06d30137-f639-4eca-8b5c-8eda703cc0c0",
   "metadata": {},
   "outputs": [
    {
     "data": {
      "text/plain": [
       "[<matplotlib.lines.Line2D at 0x7fa65cdf74c0>]"
      ]
     },
     "execution_count": 40,
     "metadata": {},
     "output_type": "execute_result"
    },
    {
     "data": {
      "image/png": "[encoded data removed]",
      "text/plain": [
       "<Figure size 432x288 with 1 Axes>"
      ]
     },
     "metadata": {
      "needs_background": "light"
     },
     "output_type": "display_data"
    }
   ],
   "source": [
    "# Sort the dict by key for visualization\n",
    "publication_year_sorted = OrderedDict(sorted(publication_year.items()))\n",
    "\n",
    "plt.plot(publication_year_sorted.keys(),publication_year_sorted.values())"
   ]
  },
  {
   "cell_type": "markdown",
   "id": "deef8e01-09e4-4070-b998-dcb613232b7f",
   "metadata": {},
   "source": [
    "**🟡 invalid data: There are `publication_year` values greater than 2022**\n",
    "\n",
    "**🟢 We need to filter out those works whose `publication_year` is greater than 2022**"
   ]
  },
  {
   "cell_type": "code",
   "execution_count": 59,
   "id": "83d5bf7d-9583-4d2f-bebd-1465609f66d9",
   "metadata": {},
   "outputs": [
    {
     "data": {
      "text/plain": [
       "50000"
      ]
     },
     "execution_count": 59,
     "metadata": {},
     "output_type": "execute_result"
    }
   ],
   "source": [
    "len(all_works_50)"
   ]
  },
  {
   "cell_type": "code",
   "execution_count": 67,
   "id": "25b8ba04-08cb-4911-80d4-0e7a7aaa1807",
   "metadata": {},
   "outputs": [],
   "source": [
    "# We will make a new list for this because python doesn't allow us to remove values with a loop\n",
    "all_works_50_2022 = []\n",
    "\n",
    "for i in range(len(all_works_50)):\n",
    "    if all_works_50[i]['publication_year'] <= 2022:\n",
    "        all_works_50_2022.append(all_works_50[i])"
   ]
  },
  {
   "cell_type": "code",
   "execution_count": 75,
   "id": "5119d87a-09c1-4723-8641-3772d84eb04d",
   "metadata": {},
   "outputs": [
    {
     "name": "stdout",
     "output_type": "stream",
     "text": [
      "Now we have 49991 publications left.\n"
     ]
    }
   ],
   "source": [
    "print(f'Now we have {len(all_works_50_2022)} publications left.')"
   ]
  },
  {
   "cell_type": "markdown",
   "id": "6b0e524b-0034-4616-bf79-a65226d658f0",
   "metadata": {},
   "source": [
    "<br><br><br>"
   ]
  },
  {
   "cell_type": "markdown",
   "id": "44635878-abb7-4b6e-83e3-b9ef4effc7c7",
   "metadata": {},
   "source": [
    "### 3.3. `is_retracted`"
   ]
  },
  {
   "cell_type": "code",
   "execution_count": 71,
   "id": "7d9ab310-1409-4f45-82d9-73de31319ee0",
   "metadata": {},
   "outputs": [
    {
     "name": "stdout",
     "output_type": "stream",
     "text": [
      "defaultdict(<class 'int'>, {False: 49985, True: 6})\n"
     ]
    }
   ],
   "source": [
    "is_retracted = defaultdict(int)\n",
    "\n",
    "for i in range(len(all_works_50_2022)):\n",
    "    is_retracted[all_works_50_2022[i]['is_retracted']] += 1\n",
    "print(is_retracted)"
   ]
  },
  {
   "cell_type": "markdown",
   "id": "f731ccd7-79bf-41cc-8bbd-90da6c2baaa7",
   "metadata": {},
   "source": [
    "**🟡 invalid data: There are 6 works that have been retracted.**\n",
    "\n",
    "**🟢 We need to filter out those works whose `is_retracted` is `True`**"
   ]
  },
  {
   "cell_type": "code",
   "execution_count": 72,
   "id": "52473fab-79d0-4382-b5d2-d883c3a04b8d",
   "metadata": {},
   "outputs": [],
   "source": [
    "# We will make a new list for the filtered data\n",
    "all_works_50_2022_r = []\n",
    "\n",
    "for i in range(len(all_works_50_2022)):\n",
    "    if all_works_50_2022[i]['is_retracted'] == False:\n",
    "        all_works_50_2022_r.append(all_works_50_2022[i])"
   ]
  },
  {
   "cell_type": "code",
   "execution_count": 76,
   "id": "1c54c7ab-8270-4410-a0a1-b82f6a66f75f",
   "metadata": {},
   "outputs": [
    {
     "name": "stdout",
     "output_type": "stream",
     "text": [
      "Now we have 49985 publications left.\n"
     ]
    }
   ],
   "source": [
    "print(f'Now we have {len(all_works_50_2022_r)} publications left.')"
   ]
  },
  {
   "cell_type": "markdown",
   "id": "03a22537-5845-4bbf-a1c9-95b370999fd0",
   "metadata": {},
   "source": [
    "<br><br><br>"
   ]
  },
  {
   "cell_type": "markdown",
   "id": "99d8f403-a666-4e08-b004-c5636191bcc2",
   "metadata": {},
   "source": [
    "### 3.4. Concepts of The Works"
   ]
  },
  {
   "cell_type": "code",
   "execution_count": 77,
   "id": "bca0d05e-bc78-408b-869b-1decb8fdb4a1",
   "metadata": {},
   "outputs": [],
   "source": [
    "concepts_count = defaultdict(int)\n",
    "\n",
    "for i in range(len(all_works_50_2022_r)):\n",
    "    for j in range(len(all_works_50_2022_r[i]['concepts'])):\n",
    "        concept = all_works_50_2022_r[i]['concepts'][j]['display_name']\n",
    "        concepts_count[concept] += 1"
   ]
  },
  {
   "cell_type": "code",
   "execution_count": 78,
   "id": "87d87d55-81d6-41dd-9669-f9a232b5d10c",
   "metadata": {},
   "outputs": [
    {
     "name": "stdout",
     "output_type": "stream",
     "text": [
      "There are 30925 concepts in these works.\n"
     ]
    }
   ],
   "source": [
    "print(f'There are {len(concepts_count)} concepts in these works.')"
   ]
  },
  {
   "cell_type": "code",
   "execution_count": 79,
   "id": "9447e61d-dd74-453c-b640-38fb16ffa260",
   "metadata": {},
   "outputs": [],
   "source": [
    "concepts_count_sorted = sorted(concepts_count.items(), key=lambda x:x[1])"
   ]
  },
  {
   "cell_type": "markdown",
   "id": "fd5e18ab-9fd9-4b46-8362-c3704baa52d0",
   "metadata": {},
   "source": [
    "Let's take a look at the most popular 20 concepts and the concepts that only appeared once:"
   ]
  },
  {
   "cell_type": "markdown",
   "id": "37975af6-ef3a-4f2c-83f1-7be9cf59f49b",
   "metadata": {},
   "source": [
    "**The most popular 20 concepts:**"
   ]
  },
  {
   "cell_type": "code",
   "execution_count": 83,
   "id": "f57cf47d-92b2-4d89-a6b7-5087e6133c50",
   "metadata": {},
   "outputs": [
    {
     "data": {
      "text/plain": [
       "[('Oncology', 1437),\n",
       " ('Coronavirus disease 2019 (COVID-19)', 1467),\n",
       " ('Composite material', 1527),\n",
       " ('Engineering', 1651),\n",
       " ('Population', 1951),\n",
       " ('Physics', 2006),\n",
       " ('Geology', 2021),\n",
       " ('Nanotechnology', 2079),\n",
       " ('Chemical engineering', 2180),\n",
       " ('Mathematics', 2230),\n",
       " ('Business', 2349),\n",
       " ('Psychology', 3620),\n",
       " ('Artificial intelligence', 3626),\n",
       " ('Environmental science', 3909),\n",
       " ('Internal medicine', 5197),\n",
       " ('Chemistry', 5317),\n",
       " ('Biology', 5462),\n",
       " ('Materials science', 6622),\n",
       " ('Computer science', 11810),\n",
       " ('Medicine', 12749)]"
      ]
     },
     "execution_count": 83,
     "metadata": {},
     "output_type": "execute_result"
    }
   ],
   "source": [
    "concepts_count_sorted[-20:]"
   ]
  },
  {
   "cell_type": "markdown",
   "id": "a5ed899b-6b2a-40b5-b824-1a46c3131efa",
   "metadata": {},
   "source": [
    "**The concepts that only appeared once:**"
   ]
  },
  {
   "cell_type": "code",
   "execution_count": 88,
   "id": "549628d4-1187-4285-9e9b-74ee7f50fa48",
   "metadata": {},
   "outputs": [
    {
     "name": "stdout",
     "output_type": "stream",
     "text": [
      "There are 10676 concepts that only appeared once\n"
     ]
    }
   ],
   "source": [
    "concept_once = []\n",
    "for (con, num) in concepts_count_sorted:\n",
    "    if num == 1:\n",
    "        concept_once.append(con)\n",
    "print(f'There are {len(concept_once)} concepts that only appeared once')"
   ]
  },
  {
   "cell_type": "markdown",
   "id": "1f17c628-c459-4fb7-be5e-a18cabf18bbc",
   "metadata": {},
   "source": [
    "Let's visualize the most popular 20 concepts:"
   ]
  },
  {
   "cell_type": "code",
   "execution_count": 90,
   "id": "a4af312c-a968-4bd6-a657-bb0d725979f0",
   "metadata": {},
   "outputs": [],
   "source": [
    "# making the lists for plotting\n",
    "concepts, counts = [], []\n",
    "for con, num in concepts_count_sorted[-20:]:\n",
    "    concepts.append(con)\n",
    "    counts.append(num)"
   ]
  },
  {
   "cell_type": "code",
   "execution_count": 104,
   "id": "f7b427d0-d0b8-430b-827a-6ef29bf4a7e3",
   "metadata": {},
   "outputs": [
    {
     "data": {
      "image/png": "[encoded data removed]",
      "text/plain": [
       "<Figure size 720x360 with 1 Axes>"
      ]
     },
     "metadata": {
      "needs_background": "light"
     },
     "output_type": "display_data"
    }
   ],
   "source": [
    "fig = plt.figure(figsize = (10, 5))\n",
    " \n",
    "# creating the bar plot\n",
    "plt.bar(concepts, counts, color ='green',\n",
    "        width = 0.4)\n",
    "plt.xticks(ticks=range(len(concepts)), labels=concepts, rotation=90)\n",
    "plt.xlabel(\"Concept\")\n",
    "plt.ylabel(\"Counts\")\n",
    "plt.title(\"The most popular 20 concepts\")\n",
    "plt.show()"
   ]
  },
  {
   "cell_type": "markdown",
   "id": "a2763f6d-f299-445b-bbd0-2ab7a102f29d",
   "metadata": {},
   "source": [
    "<br><br><br>"
   ]
  },
  {
   "cell_type": "markdown",
   "id": "0ee68b39-9195-4812-97c9-33bf1c20836a",
   "metadata": {},
   "source": [
    "### 3.5. [Predatory Journals](https://www.ohri.ca/journalology/one-stop-shop-predatory-journals)\n",
    "\n",
    "“Predatory journals & publishers are entities that prioritize self-interest at the expense of scholarship and are characterized by false or misleading information, deviation from best editorial and publication practices, a lack of transparency, and/or the use of aggressive and indiscriminate solicitation practices.”\n",
    "\n",
    "**🔻 Challenge 3: For the sake of data quality, we should filter out those works from Predatory Journals.**"
   ]
  },
  {
   "cell_type": "code",
   "execution_count": 98,
   "id": "071d95e3-7b07-48e0-be90-b945b70893ce",
   "metadata": {
    "tags": []
   },
   "outputs": [],
   "source": [
    "host_venue_count = defaultdict(int)\n",
    "\n",
    "for i in range(len(all_works_50_2022_r)):\n",
    "    host_venue_count[all_works_50_2022_r[i]['host_venue']['display_name']] += 1"
   ]
  },
  {
   "cell_type": "code",
   "execution_count": 99,
   "id": "2e547e47-2fb3-4654-bc1b-52f515a91831",
   "metadata": {},
   "outputs": [
    {
     "name": "stdout",
     "output_type": "stream",
     "text": [
      "There are 9756 venues hosting these works.\n"
     ]
    }
   ],
   "source": [
    "print(f'There are {len(host_venue_count)} venues hosting these works.')"
   ]
  },
  {
   "cell_type": "code",
   "execution_count": 100,
   "id": "85cc7f69-571a-4407-9cb4-0fdd15a3d653",
   "metadata": {},
   "outputs": [],
   "source": [
    "host_venue_count_sorted = sorted(host_venue_count.items(), key=lambda x:x[1])"
   ]
  },
  {
   "cell_type": "code",
   "execution_count": 101,
   "id": "545cd721-6f91-4c19-b6cd-b95d09794780",
   "metadata": {},
   "outputs": [
    {
     "data": {
      "text/plain": [
       "[('Monthly Notices of the Royal Astronomical Society', 145),\n",
       " ('Angewandte Chemie', 145),\n",
       " ('IEEE Transactions on Vehicular Technology', 153),\n",
       " ('International Journal of Environmental Research and Public Health', 153),\n",
       " ('Blood', 157),\n",
       " ('Lecture Notes in Computer Science', 158),\n",
       " ('Journal of Cleaner Production', 164),\n",
       " ('PLOS ONE', 169),\n",
       " ('Chemical Engineering Journal', 172),\n",
       " ('Physical review', 187),\n",
       " ('medRxiv', 197),\n",
       " ('IEEE Access', 222),\n",
       " ('IEEE Internet of Things Journal', 225),\n",
       " ('Science of The Total Environment', 233),\n",
       " ('Journal of Clinical Oncology', 267),\n",
       " ('Nature Communications', 271),\n",
       " ('Scientific Reports', 368),\n",
       " ('bioRxiv', 400),\n",
       " ('Social Science Research Network', 569),\n",
       " (None, 2328)]"
      ]
     },
     "execution_count": 101,
     "metadata": {},
     "output_type": "execute_result"
    }
   ],
   "source": [
    "host_venue_count_sorted[-20:]"
   ]
  },
  {
   "cell_type": "markdown",
   "id": "93295922-5700-4a27-9a88-31c69aa666e9",
   "metadata": {},
   "source": [
    "**🟡 invalid data: There are 2328 works' hosting venues are `None`.**"
   ]
  },
  {
   "cell_type": "markdown",
   "id": "d3ecc942-c447-43d2-8cb0-00e26ce3968e",
   "metadata": {},
   "source": [
    "Let's visualize the most popular 20 venues:"
   ]
  },
  {
   "cell_type": "code",
   "execution_count": 119,
   "id": "6c0aad8c-6793-418e-8cd5-103a4e775416",
   "metadata": {},
   "outputs": [],
   "source": [
    "# making the lists for plotting\n",
    "venues, counts = [], []\n",
    "for ven, num in host_venue_count_sorted[-20:]:\n",
    "    venues.append(str(ven)) # convert the None into string in order to visualize\n",
    "    counts.append(num)"
   ]
  },
  {
   "cell_type": "code",
   "execution_count": 120,
   "id": "96840cb6-1dcc-41ff-90d2-c5a6455a72d6",
   "metadata": {},
   "outputs": [
    {
     "data": {
      "image/png": "[encoded data removed]",
      "text/plain": [
       "<Figure size 720x360 with 1 Axes>"
      ]
     },
     "metadata": {
      "needs_background": "light"
     },
     "output_type": "display_data"
    }
   ],
   "source": [
    "fig = plt.figure(figsize = (10, 5))\n",
    " \n",
    "# creating the bar plot\n",
    "plt.bar(venues, counts, color ='blue',\n",
    "        width = 0.4)\n",
    "plt.xticks(ticks=range(len(venues)), labels=venues, rotation=90)\n",
    "plt.xlabel(\"Venues\")\n",
    "plt.ylabel(\"Counts\")\n",
    "plt.title(\"The most popular 20 venues\")\n",
    "plt.show()"
   ]
  },
  {
   "cell_type": "markdown",
   "id": "e8aee8dc-0356-4174-acf8-3e9d5adbfec1",
   "metadata": {},
   "source": [
    "<br><br><br>"
   ]
  },
  {
   "cell_type": "markdown",
   "id": "86c4bd93-01aa-419c-bb88-f0b568fce837",
   "metadata": {},
   "source": [
    "### 3.6. [Types of The Works](https://docs.openalex.org/about-the-data/work#type)\n",
    "\n",
    "The type of a work may represent the quality and rigor of the work. "
   ]
  },
  {
   "cell_type": "code",
   "execution_count": 110,
   "id": "416dde7c-569d-4827-8a6e-0a551fc32764",
   "metadata": {},
   "outputs": [],
   "source": [
    "type_count = defaultdict(int)\n",
    "\n",
    "for i in range(len(all_works_50_2022_r)):\n",
    "    type_count[all_works_50_2022_r[i]['type']] += 1"
   ]
  },
  {
   "cell_type": "code",
   "execution_count": 111,
   "id": "2df14a7a-3775-468b-ab85-16492965d7da",
   "metadata": {},
   "outputs": [
    {
     "name": "stdout",
     "output_type": "stream",
     "text": [
      "defaultdict(<class 'int'>, {'journal-article': 43369, 'proceedings-article': 2424, 'posted-content': 2493, 'book-chapter': 1249, 'peer-review': 55, 'report': 34, 'book': 37, 'other': 46, 'dataset': 4, 'proceedings': 6, 'monograph': 3, None: 258, 'reference-entry': 6, 'proceedings-series': 1})\n"
     ]
    }
   ],
   "source": [
    "print(type_count)"
   ]
  },
  {
   "cell_type": "markdown",
   "id": "eba6fdc5-088e-46b4-ac4b-facda2d80c6b",
   "metadata": {},
   "source": [
    "**🟡 invalid data: There are 258 works' types are `None`.**"
   ]
  },
  {
   "cell_type": "code",
   "execution_count": 115,
   "id": "6c2e6a5c-d52e-4458-94c0-4b0ed4acc135",
   "metadata": {},
   "outputs": [],
   "source": [
    "# making the lists for plotting\n",
    "types = [str(type_) for type_ in type_count.keys()]\n",
    "counts = type_count.values()"
   ]
  },
  {
   "cell_type": "code",
   "execution_count": 117,
   "id": "c2924d57-46eb-4605-ac07-2a6d56e5f71b",
   "metadata": {},
   "outputs": [
    {
     "data": {
      "image/png": "[encoded data removed]",
      "text/plain": [
       "<Figure size 720x360 with 1 Axes>"
      ]
     },
     "metadata": {
      "needs_background": "light"
     },
     "output_type": "display_data"
    }
   ],
   "source": [
    "fig = plt.figure(figsize = (10, 5))\n",
    " \n",
    "# creating the bar plot\n",
    "plt.bar(types, counts, color ='orange',\n",
    "        width = 0.4)\n",
    "plt.xticks(ticks=range(len(types)), labels=types, rotation=90)\n",
    "plt.xlabel(\"Types\")\n",
    "plt.ylabel(\"Counts\")\n",
    "plt.title(\"The distribution of publications types\")\n",
    "plt.show()"
   ]
  },
  {
   "cell_type": "markdown",
   "id": "d56b2ee7-5e31-4e5b-95b2-2b43b3510f29",
   "metadata": {},
   "source": [
    "<br><br><br>"
   ]
  },
  {
   "cell_type": "markdown",
   "id": "d9b75e8d-361d-4e89-a964-0fe0ffa188f1",
   "metadata": {},
   "source": [
    "## 4. Exploratory Questions and Visualization"
   ]
  },
  {
   "cell_type": "markdown",
   "id": "9257cfa2-7bd5-4149-9018-36bad77ad0cd",
   "metadata": {},
   "source": [
    "### 4.1. What is the volume and growth trend of Canada and Asia research collaborations? (`Line Graph`, may group by `countries`)"
   ]
  },
  {
   "cell_type": "markdown",
   "id": "a45aca89-1f39-4221-9f36-75b11fabcfdd",
   "metadata": {},
   "source": [
    "### 4.2. What is the trend of topics/concepts over time?  (`Line Graph` + `Word Cloud`, may filter the top 10 topics)"
   ]
  },
  {
   "cell_type": "markdown",
   "id": "25bd2fd8-40e5-4a19-9ff2-2397db700483",
   "metadata": {},
   "source": [
    "### 4.3. Which venues host the most collaborations between Canada and Asia? (`Bar Graph`)"
   ]
  },
  {
   "cell_type": "markdown",
   "id": "0bec46ee-63ee-4c6d-8e63-783961a10e94",
   "metadata": {},
   "source": [
    "### 4.4. Which institutions in Canada have more collaboration with Asia? (`Bar Graph`, or show the trend with `Line Graph`)"
   ]
  },
  {
   "cell_type": "markdown",
   "id": "dd039d4d-b380-4ed0-92ce-342a027203ea",
   "metadata": {},
   "source": [
    "### 4.5. Which institutions in Asia have more collaboration with Canada? (`Bar Graph`, or show the trend with `Line Graph`)"
   ]
  },
  {
   "cell_type": "markdown",
   "id": "04ab8941-7e47-4afc-81e4-a341b2e4ccfa",
   "metadata": {},
   "source": [
    "### 4.6. How's the co-citation network like between Canada and Asia authors? (`Co-citation graph generator`)"
   ]
  },
  {
   "cell_type": "markdown",
   "id": "bd1ebc2a-aa93-451c-9d19-acf665f93663",
   "metadata": {},
   "source": [
    "### 4.7. What's the percentage of Open Access publications? (`Pie Graph`)"
   ]
  }
 ],
 "metadata": {
  "kernelspec": {
   "display_name": "Python 3 (ipykernel)",
   "language": "python",
   "name": "python3"
  },
  "language_info": {
   "codemirror_mode": {
    "name": "ipython",
    "version": 3
   },
   "file_extension": ".py",
   "mimetype": "text/x-python",
   "name": "python",
   "nbconvert_exporter": "python",
   "pygments_lexer": "ipython3",
   "version": "3.9.5"
  }
 },
 "nbformat": 4,
 "nbformat_minor": 5
}
