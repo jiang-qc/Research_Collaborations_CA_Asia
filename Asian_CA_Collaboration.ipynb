{
 "cells": [
  {
   "cell_type": "markdown",
   "id": "1d9ed21a-846f-40a7-973f-8816120e3c4c",
   "metadata": {},
   "source": [
    "# Research Collaborations Between Scholars Based in Canada and Asia"
   ]
  },
  {
   "cell_type": "markdown",
   "id": "7f59f8e9-3422-4d74-aee6-896cd9928cf0",
   "metadata": {},
   "source": [
    "In this notebook we will query the OpenAlex API to investigate **Research Collaborations Between Scholars Based in Canada and Asia**"
   ]
  },
  {
   "cell_type": "markdown",
   "id": "b09a5617-1d23-4093-8836-1b87048106b7",
   "metadata": {},
   "source": [
    "Let's start by dividing the process into smaller, more manageable steps:\n",
    "\n",
    "1. First we need to get all publications that:\n",
    "    - have more than one authors\n",
    "    - at least one of the authors is from Canada\n",
    "    - at least one of the authors is from Asia countries\n",
    "2. Then we validate and clean the data for further investigation.\n",
    "3. Finally we can visualize our findings to answer certain questions"
   ]
  },
  {
   "cell_type": "markdown",
   "id": "58c01be1-1a23-44d6-bf00-18b9bf429024",
   "metadata": {},
   "source": [
    "***"
   ]
  },
  {
   "cell_type": "markdown",
   "id": "08743d58-6524-4d10-a5fb-15edad681224",
   "metadata": {},
   "source": [
    "## 1. Identify collaborated publications from Canada and Asia countries."
   ]
  },
  {
   "cell_type": "markdown",
   "id": "9687f180-f23c-4ed0-9031-b35b691afa1b",
   "metadata": {},
   "source": [
    "1. First We should identify the `joint publications by Canadian/Asian authors`. From the [entity objects description](https://docs.openalex.org/about-the-data), we can defined these collaborations by [Authorship](https://docs.openalex.org/about-the-data/work#authorships) Objects:\n",
    "- at least one of the authors' institutions' is located in **Canada**\n",
    "- at least one of the authors' institutions' is located in **Asia**\n",
    "\n",
    "2. Then we build the URL to get the data we want\n",
    "- The entity type that we want is `work`\n",
    "- The filters we want to use are:\n",
    "    1. Institutions: `country_code: \"CA\"` + `country_code: \"(Asian country)\"`"
   ]
  },
  {
   "cell_type": "markdown",
   "id": "6fb43a05-117c-4afc-8726-75f5ff46b254",
   "metadata": {},
   "source": [
    "<br><br><br>"
   ]
  },
  {
   "cell_type": "markdown",
   "id": "3ac755af-ec06-4287-9173-61cf73715a4e",
   "metadata": {},
   "source": [
    "<br><br><br>"
   ]
  },
  {
   "cell_type": "markdown",
   "id": "39cd8500-c55b-4658-82f9-869572710a6b",
   "metadata": {},
   "source": [
    "## 2. Data Selection"
   ]
  },
  {
   "cell_type": "markdown",
   "id": "f4c67421-7630-404b-8060-75ab7e32c859",
   "metadata": {},
   "source": [
    "### 2.1. Get Asian Countries Code."
   ]
  },
  {
   "cell_type": "markdown",
   "id": "6783b4b7-bcbc-401e-91e1-fc648128fd46",
   "metadata": {},
   "source": [
    "We use the [ISO two-letter country code](https://en.wikipedia.org/wiki/ISO_3166-1_alpha-2) to represent the countries. We should first get a list of all Asia countries' `country_code`:"
   ]
  },
  {
   "cell_type": "code",
   "execution_count": 2,
   "id": "9e14dbb5-8a16-4989-b66e-0d452952df62",
   "metadata": {},
   "outputs": [],
   "source": [
    "asia_country_code = []"
   ]
  },
  {
   "cell_type": "markdown",
   "id": "42cdb7b5-a9ff-4547-8f4e-0311c891d32a",
   "metadata": {},
   "source": [
    "These unstructured text below are copied from the [website](https://www.countrycallingcodes.com/iso-country-codes/asia-codes.php). We should first extract the `2 Letter Country Code`."
   ]
  },
  {
   "cell_type": "code",
   "execution_count": 3,
   "id": "2ffe661b-c980-4f23-9bbc-2a150abace04",
   "metadata": {},
   "outputs": [],
   "source": [
    "asia_codes = '''\n",
    "Afghanistan\tAF\tAFG\t.af\n",
    "Armenia\tAM\tARM\t.am\n",
    "Azerbaijan\tAZ\tAZE\t.az\n",
    "Bahrain\tBH\tBHR\t.bh\n",
    "Bangladesh\tBD\tBGD\t.bd\n",
    "Bhutan\tBT\tBTN\t.bt\n",
    "Brunei\tBN\tBRN\t.bn\n",
    "Cambodia\tKH\tKHM\t.kh\n",
    "China\tCN\tCHN\t.cn\n",
    "Christmas Island\tCX\tCXR\t.cx\n",
    "Cocos Islands\tCC\tCCK\t.cc\n",
    "Diego Garcia\tIO\tIOT\t.io\n",
    "Georgia\tGE\tGEO\t.ge\n",
    "Hong Kong\tHK\tHKG\t.hk\n",
    "India\tIN\tIND\t.in\n",
    "Indonesia\tID\tIDN\t.id\n",
    "Iran\tIR\tIRN\t.ir\n",
    "Iraq\tIQ\tIRQ\t.iq\n",
    "Israel\tIL\tISR\t.il\n",
    "Japan\tJP\tJPN\t.jp\n",
    "Jordan\tJO\tJOR\t.jo\n",
    "Kazakhstan\tKZ\tKAZ\t.kz\n",
    "Kuwait\tKW\tKWT\t.kw\n",
    "Kyrgyzstan\tKG\tKGZ\t.kg\n",
    "Laos\tLA\tLAO\t.la\n",
    "Lebanon\tLB\tLBN\t.lb\n",
    "Macau\tMO\tMAC\t.mo\n",
    "Malaysia\tMY\tMYS\t.my\n",
    "Maldives\tMV\tMDV\t.mv\n",
    "Mongolia\tMN\tMNG\t.mn\n",
    "Myanmar\tMM\tMMR\t.mm\n",
    "Nepal\tNP\tNPL\t.np\n",
    "North Korea\tKP\tPRK\t.kp\n",
    "Oman\tOM\tOMN\t.om\n",
    "Pakistan\tPK\tPAK\t.pk\n",
    "Palestine\tPS\tPSE\t.ps\n",
    "Philippines\tPH\tPHL\t.ph\n",
    "Qatar\tQA\tQAT\t.qa\n",
    "Saudi Arabia\tSA\tSAU\t.sa\n",
    "Singapore\tSG\tSGP\t.sg\n",
    "South Korea\tKR\tKOR\t.kr\n",
    "Sri Lanka\tLK\tLKA\t.lk\n",
    "Syria\tSY\tSYR\t.sy\n",
    "Taiwan\tTW\tTWN\t.tw\n",
    "Tajikistan\tTJ\tTJK\t.tj\n",
    "Thailand\tTH\tTHA\t.th\n",
    "Turkey\tTR\tTUR\t.tr\n",
    "Turkmenistan\tTM\tTKM\t.tm\n",
    "United Arab Emirates\tAE\tARE\t.ae\n",
    "Uzbekistan\tUZ\tUZB\t.uz\n",
    "Vietnam\tVN\tVNM\t.vn\n",
    "Yemen\tYE\tYEM\t.ye\n",
    "'''\n",
    "\n",
    "\n",
    "for i, code in enumerate(asia_codes.split('\\t')):\n",
    "    if i%3 == 1:\n",
    "        asia_country_code.append(code)"
   ]
  },
  {
   "cell_type": "code",
   "execution_count": 4,
   "id": "b3e6a062-75fb-41a9-9075-7f2cc08aa5d1",
   "metadata": {},
   "outputs": [
    {
     "name": "stdout",
     "output_type": "stream",
     "text": [
      "There are 52 countries in Asia.\n"
     ]
    }
   ],
   "source": [
    "print(f'There are {len(asia_country_code)} countries in Asia.')"
   ]
  },
  {
   "cell_type": "markdown",
   "id": "d920e073-20c6-48a6-a480-0a9e23b6defb",
   "metadata": {},
   "source": [
    "**🔻 Chalenge 1: We can only combine up to 50 values for a given filter with the \"OR\" operator: pipe symbol (|)**\n",
    "\n",
    "🟩 Because of the limitation, we should divide these 52 countries into 50 and 2, and connect them with the pipe symbol (|), separately."
   ]
  },
  {
   "cell_type": "code",
   "execution_count": 5,
   "id": "7f018a22-8319-462d-93eb-55379fb89cf0",
   "metadata": {},
   "outputs": [
    {
     "data": {
      "text/plain": [
       "'AF|AM|AZ|BH|BD|BT|BN|KH|CN|CX|CC|IO|GE|HK|IN|ID|IR|IQ|IL|JP|JO|KZ|KW|KG|LA|LB|MO|MY|MV|MN|MM|NP|KP|OM|PK|PS|PH|QA|SA|SG|KR|LK|SY|TW|TJ|TH|TR|TM|AE|UZ'"
      ]
     },
     "execution_count": 5,
     "metadata": {},
     "output_type": "execute_result"
    }
   ],
   "source": [
    "asia_country_code_50 = '|'.join(asia_country_code[:50])\n",
    "asia_country_code_50"
   ]
  },
  {
   "cell_type": "code",
   "execution_count": 6,
   "id": "f15b231b-d71b-4aa1-bc76-eca2f27a20e7",
   "metadata": {},
   "outputs": [
    {
     "data": {
      "text/plain": [
       "'VN|YE'"
      ]
     },
     "execution_count": 6,
     "metadata": {},
     "output_type": "execute_result"
    }
   ],
   "source": [
    "asia_country_code_2 = '|'.join(asia_country_code[-2:])\n",
    "asia_country_code_2"
   ]
  },
  {
   "cell_type": "markdown",
   "id": "418c523a-d7b3-4a26-8cd8-03988570b041",
   "metadata": {},
   "source": [
    "<br><br><br>"
   ]
  },
  {
   "cell_type": "markdown",
   "id": "f65c7096-2548-405c-aae3-1887e6bcbc66",
   "metadata": {},
   "source": [
    "### 2.2. Build the URL for Request"
   ]
  },
  {
   "cell_type": "markdown",
   "id": "47ec891e-7c6e-4bde-b5e7-27cc6f89889e",
   "metadata": {},
   "source": [
    "#### 2.2.1. The URL for The First 50 Asian Countries"
   ]
  },
  {
   "cell_type": "markdown",
   "id": "28007007-fba8-4efb-9341-4bbc6902f737",
   "metadata": {},
   "source": [
    "Now we need to put the URL together from these parts as follows:\n",
    "- Starting with the base URL `https://api.openalex.org/`, we add the entity type to it : `https://api.openalex.org/works`\n",
    "\n",
    "- All criteria need to go into the query parameter filter that is added after a question mark: `https://api.openalex.org/works?filter=`\n",
    "\n",
    "- Finally we take the criteria we specified before and concatenate them using commas as separators. This will be our filter value: `https://api.openalex.org/works?filter=country_code:CA,authorships.institutions.country_code:{Asian_Country_Code_Connected_with_Pipe}`\n",
    "\n",
    "\n",
    "- Add the `mailto=you@example.com` parameter in your API request, [as suggested by the website](https://docs.openalex.org/api#the-polite-pool): `https://api.openalex.org/works?filter=country_code:CA,authorships.institutions.country_code:{Asian_Country_Code_Connected_with_Pipe}mailto=jiangqichao564@gmail.com`"
   ]
  },
  {
   "cell_type": "code",
   "execution_count": 25,
   "id": "50cdcece-8068-43b9-982f-53e35b0e5a3b",
   "metadata": {},
   "outputs": [
    {
     "name": "stdout",
     "output_type": "stream",
     "text": [
      "complete URL:\n",
      "  https://api.openalex.org/works?filter=authorships.institutions.country_code:CA,authorships.institutions.country_code:AF|AM|AZ|BH|BD|BT|BN|KH|CN|CX|CC|IO|GE|HK|IN|ID|IR|IQ|IL|JP|JO|KZ|KW|KG|LA|LB|MO|MY|MV|MN|MM|NP|KP|OM|PK|PS|PH|QA|SA|SG|KR|LK|SY|TW|TJ|TH|TR|TM|AE|UZ&per-page=200&cursor=*\n"
     ]
    }
   ],
   "source": [
    "CA_filter = 'authorships.institutions.country_code:CA'\n",
    "\n",
    "Asia_filter_50 = f'authorships.institutions.country_code:' + asia_country_code_50\n",
    "\n",
    "mailto = 'mailto=jiangqichao564@gmail.com'\n",
    "# By default there are 25 results per page; \n",
    "# Here we use the per-page parameter to change that to 200(the max)\n",
    "paging = 'per-page=200'\n",
    "cursor = 'cursor=*'\n",
    "\n",
    "# put the URL together\n",
    "filtered_works_url_50 = f'https://api.openalex.org/works?filter={\",\".join((CA_filter, Asia_filter_50))}'\n",
    "works_cursor_url_50 = f'{filtered_works_url_50}&{paging}&{cursor}'\n",
    "print(f'complete URL:\\n  {works_cursor_url_50}')"
   ]
  },
  {
   "cell_type": "markdown",
   "id": "71efb57d-4d86-4e39-a923-15c80999bd54",
   "metadata": {},
   "source": [
    "#### 2.2.2. The URL for Last 2 Asian Countries"
   ]
  },
  {
   "cell_type": "code",
   "execution_count": 52,
   "id": "9aaa84a3-4d35-446a-a5b9-fe07b00cc2a4",
   "metadata": {},
   "outputs": [
    {
     "name": "stdout",
     "output_type": "stream",
     "text": [
      "complete URL:\n",
      "  https://api.openalex.org/works?filter=authorships.institutions.country_code:CA,authorships.institutions.country_code:VN|YE,authorships.institutions.country_code:!AF|AM|AZ|BH|BD|BT|BN|KH|CN|CX|CC|IO|GE|HK|IN|ID|IR|IQ|IL|JP|JO|KZ|KW|KG|LA|LB|MO|MY|MV|MN|MM|NP|KP|OM|PK|PS|PH|QA|SA|SG|KR|LK|SY|TW|TJ|TH|TR|TM|AE|UZ&per-page=200&cursor=*\n"
     ]
    }
   ],
   "source": [
    "Asia_filter_2 = 'authorships.institutions.country_code:' + asia_country_code_2\n",
    "# exclude the intersection of works with 50 Asian countries\n",
    "Asia_filter_50_neg = 'authorships.institutions.country_code:!' + asia_country_code_50\n",
    "cursor = 'cursor=*'\n",
    "# put the URL together\n",
    "filtered_works_url_2 = f'https://api.openalex.org/works?filter={\",\".join((CA_filter, Asia_filter_2, Asia_filter_50_neg))}'\n",
    "works_cursor_url_2 = f'{filtered_works_url_2}&{paging}&{cursor}'\n",
    "print(f'complete URL:\\n  {works_cursor_url_2}')"
   ]
  },
  {
   "cell_type": "markdown",
   "id": "22560da0-8dd2-4b46-a8e2-1b48d7699492",
   "metadata": {},
   "source": [
    "<br><br><br>"
   ]
  },
  {
   "cell_type": "markdown",
   "id": "10225391-19bc-4e1a-981a-c8010ca0fdbe",
   "metadata": {},
   "source": [
    "### 2.3. Get the Meta Information of Works "
   ]
  },
  {
   "cell_type": "markdown",
   "id": "d443300a-7d5e-4d51-9f6b-d0f265fb683a",
   "metadata": {},
   "source": [
    "#### 2.3.1. The First 50 Asian Countries"
   ]
  },
  {
   "cell_type": "code",
   "execution_count": 27,
   "id": "51375d41-6800-4e3b-a933-245b0a8b1d66",
   "metadata": {},
   "outputs": [
    {
     "name": "stdout",
     "output_type": "stream",
     "text": [
      "dict_keys(['meta', 'results', 'group_by'])\n"
     ]
    }
   ],
   "source": [
    "import requests, json\n",
    "response_50 = requests.get(works_cursor_url_50)\n",
    "response_50.raise_for_status()\n",
    "CA_Asia_works_50 = response_50.json()\n",
    "\n",
    "import pprint\n",
    "pprint.pprint(CA_Asia_works_50.keys())"
   ]
  },
  {
   "cell_type": "code",
   "execution_count": 28,
   "id": "d5af0fe0-ada0-4539-b674-76dab8ed070e",
   "metadata": {},
   "outputs": [
    {
     "data": {
      "text/plain": [
       "{'count': 260939,\n",
       " 'db_response_time_ms': 291,\n",
       " 'page': None,\n",
       " 'per_page': 200,\n",
       " 'next_cursor': 'IlsxNjYwNTIxNjAwMDAwLCAnaHR0cHM6Ly9vcGVuYWxleC5vcmcvVzQyOTIwNjkwNTcnXSI='}"
      ]
     },
     "execution_count": 28,
     "metadata": {},
     "output_type": "execute_result"
    }
   ],
   "source": [
    "CA_Asia_works_50['meta']"
   ]
  },
  {
   "cell_type": "code",
   "execution_count": 29,
   "id": "7043424e-2c48-4088-9adc-3f1488602433",
   "metadata": {},
   "outputs": [],
   "source": [
    "count_50 = CA_Asia_works_50['meta']['count']"
   ]
  },
  {
   "cell_type": "code",
   "execution_count": 30,
   "id": "0dc122cb-21b6-4adf-b49c-95b6f261323b",
   "metadata": {},
   "outputs": [
    {
     "name": "stdout",
     "output_type": "stream",
     "text": [
      "There are 260939 collaborated works with the first 50 Asian countries\n"
     ]
    }
   ],
   "source": [
    "print(f'There are {count_50} collaborated works with the first 50 Asian countries')"
   ]
  },
  {
   "cell_type": "markdown",
   "id": "3a24e36a-cdbf-4d45-9f5c-edafad979e12",
   "metadata": {},
   "source": [
    "Let's estimate how long does it take to query all the data."
   ]
  },
  {
   "cell_type": "code",
   "execution_count": 31,
   "id": "bde28eac-f3bd-4bc2-8b85-10d28d1a753e",
   "metadata": {},
   "outputs": [
    {
     "name": "stdout",
     "output_type": "stream",
     "text": [
      "It takes around 6.327770749999999 minutes to crawl all the data we need for analysis.\n"
     ]
    }
   ],
   "source": [
    "minutes = CA_Asia_works_50['meta']['db_response_time_ms']/1000 * (CA_Asia_works_50['meta']['count']/200)/60\n",
    "print(f'It takes around {minutes} minutes to crawl all the data we need for analysis.')"
   ]
  },
  {
   "cell_type": "markdown",
   "id": "e2a8d5c5-80f8-424e-95b9-1be92a9270ff",
   "metadata": {},
   "source": [
    "The estimated time looks reasonable. If it takes too long, we should probably [download the snapshot](https://docs.openalex.org/download-snapshot).\n",
    "\n",
    "The `results` object has all the information we need."
   ]
  },
  {
   "cell_type": "code",
   "execution_count": 32,
   "id": "9f269a6d-4483-4d42-8671-9723d57ae58b",
   "metadata": {},
   "outputs": [
    {
     "name": "stdout",
     "output_type": "stream",
     "text": [
      "<class 'list'>\n",
      "200\n"
     ]
    }
   ],
   "source": [
    "print(type(CA_Asia_works_50['results']))\n",
    "print(len(CA_Asia_works_50['results']))"
   ]
  },
  {
   "cell_type": "markdown",
   "id": "f9b3d4fa-e0e1-4803-8f0a-fdbe0503f2da",
   "metadata": {},
   "source": [
    "#### 2.3.2. The Last 2 Asian Countries"
   ]
  },
  {
   "cell_type": "code",
   "execution_count": 53,
   "id": "3ea82392-cc02-41e2-8f26-ba8e338e165d",
   "metadata": {},
   "outputs": [
    {
     "name": "stdout",
     "output_type": "stream",
     "text": [
      "dict_keys(['meta', 'results', 'group_by'])\n"
     ]
    }
   ],
   "source": [
    "response_2 = requests.get(works_cursor_url_2)\n",
    "response_2.raise_for_status()\n",
    "CA_Asia_works_2 = response_2.json()\n",
    "\n",
    "pprint.pprint(CA_Asia_works_2.keys())"
   ]
  },
  {
   "cell_type": "code",
   "execution_count": 54,
   "id": "68df9075-cd24-4ac3-a914-cb4a3c6f79bd",
   "metadata": {},
   "outputs": [
    {
     "data": {
      "text/plain": [
       "{'count': 903,\n",
       " 'db_response_time_ms': 129,\n",
       " 'page': None,\n",
       " 'per_page': 200,\n",
       " 'next_cursor': 'IlsxNjA2MzQ4ODAwMDAwLCAnaHR0cHM6Ly9vcGVuYWxleC5vcmcvVzMxMjc2MjEzOTYnXSI='}"
      ]
     },
     "execution_count": 54,
     "metadata": {},
     "output_type": "execute_result"
    }
   ],
   "source": [
    "CA_Asia_works_2['meta']"
   ]
  },
  {
   "cell_type": "code",
   "execution_count": 55,
   "id": "d99e7f05-c6ef-458e-b644-3033af0207a0",
   "metadata": {},
   "outputs": [],
   "source": [
    "count_2 = CA_Asia_works_2['meta']['count']"
   ]
  },
  {
   "cell_type": "code",
   "execution_count": 56,
   "id": "aa62549d-9edd-47b5-9e39-98b072fa6154",
   "metadata": {},
   "outputs": [
    {
     "name": "stdout",
     "output_type": "stream",
     "text": [
      "There are 903 collaborated publications with the last two Asain countries\n"
     ]
    }
   ],
   "source": [
    "print(f'There are {count_2} collaborated publications with the last two Asain countries')"
   ]
  },
  {
   "cell_type": "markdown",
   "id": "9bf3b2b0-d933-4944-8409-addeff02bc26",
   "metadata": {},
   "source": [
    "The number looks reasonable."
   ]
  },
  {
   "cell_type": "markdown",
   "id": "180a503c-33af-4c39-9941-43d312400d7e",
   "metadata": {},
   "source": [
    "<br><br><br>"
   ]
  },
  {
   "cell_type": "markdown",
   "id": "f7db5d8c-85e6-4e3b-aac7-d0d623043fe3",
   "metadata": {},
   "source": [
    "### 2.4. Use [Cursor Paging](https://docs.openalex.org/api#paging) to Access Data"
   ]
  },
  {
   "cell_type": "markdown",
   "id": "b53070b1-8702-4338-a83e-4c2fb194deaa",
   "metadata": {},
   "source": [
    "The pipeline below is to get all the data we need and store them in a list of dictionaries `all_works`."
   ]
  },
  {
   "cell_type": "markdown",
   "id": "5ad0a2e1-9da7-4bfd-840e-156463a9c8d2",
   "metadata": {},
   "source": [
    "#### 2.4.1. The First 50 Asian Countries"
   ]
  },
  {
   "cell_type": "code",
   "execution_count": 37,
   "id": "647cfd8c-c41a-4d4a-a180-47f9c9122374",
   "metadata": {
    "tags": []
   },
   "outputs": [
    {
     "name": "stdout",
     "output_type": "stream",
     "text": [
      "Progress: 260973 of 260939\r"
     ]
    },
    {
     "ename": "TypeError",
     "evalue": "can only concatenate str (not \"NoneType\") to str",
     "output_type": "error",
     "traceback": [
      "\u001b[0;31m---------------------------------------------------------------------------\u001b[0m",
      "\u001b[0;31mTypeError\u001b[0m                                 Traceback (most recent call last)",
      "\u001b[0;32m/var/folders/3z/vln54yld7pl4fbx7dy7pfg580000gp/T/ipykernel_11608/3227848114.py\u001b[0m in \u001b[0;36m<module>\u001b[0;34m\u001b[0m\n\u001b[1;32m      5\u001b[0m     \u001b[0;31m# get the 200 works from next page\u001b[0m\u001b[0;34m\u001b[0m\u001b[0;34m\u001b[0m\u001b[0;34m\u001b[0m\u001b[0m\n\u001b[1;32m      6\u001b[0m     \u001b[0mcursor\u001b[0m \u001b[0;34m=\u001b[0m \u001b[0mCA_Asia_works_50\u001b[0m\u001b[0;34m[\u001b[0m\u001b[0;34m'meta'\u001b[0m\u001b[0;34m]\u001b[0m\u001b[0;34m[\u001b[0m\u001b[0;34m'next_cursor'\u001b[0m\u001b[0;34m]\u001b[0m\u001b[0;34m\u001b[0m\u001b[0;34m\u001b[0m\u001b[0m\n\u001b[0;32m----> 7\u001b[0;31m     \u001b[0mnext_page_url_50\u001b[0m \u001b[0;34m=\u001b[0m \u001b[0mworks_cursor_url_50\u001b[0m\u001b[0;34m[\u001b[0m\u001b[0;34m:\u001b[0m\u001b[0;34m-\u001b[0m\u001b[0;36m1\u001b[0m\u001b[0;34m]\u001b[0m \u001b[0;34m+\u001b[0m \u001b[0mcursor\u001b[0m\u001b[0;34m\u001b[0m\u001b[0;34m\u001b[0m\u001b[0m\n\u001b[0m\u001b[1;32m      8\u001b[0m \u001b[0;34m\u001b[0m\u001b[0m\n\u001b[1;32m      9\u001b[0m     \u001b[0mresponse_50\u001b[0m \u001b[0;34m=\u001b[0m \u001b[0mrequests\u001b[0m\u001b[0;34m.\u001b[0m\u001b[0mget\u001b[0m\u001b[0;34m(\u001b[0m\u001b[0mnext_page_url_50\u001b[0m\u001b[0;34m)\u001b[0m\u001b[0;34m\u001b[0m\u001b[0;34m\u001b[0m\u001b[0m\n",
      "\u001b[0;31mTypeError\u001b[0m: can only concatenate str (not \"NoneType\") to str"
     ]
    }
   ],
   "source": [
    "all_works = [] + CA_Asia_works_50['results']\n",
    "cursor = '*'\n",
    "# while the cursor is not NULL at the last page (NOT NULL)\n",
    "while cursor:   # --> should use `while: CA_Asia_works_2['meta']['next_cursor']:` to avoid the TypeError\n",
    "                # but the queried data will be the same\n",
    "    # get the 200 works from next page\n",
    "    cursor = CA_Asia_works_50['meta']['next_cursor']\n",
    "    next_page_url_50 = works_cursor_url_50[:-1] + cursor\n",
    "    \n",
    "    response_50 = requests.get(next_page_url_50)\n",
    "    response_50.raise_for_status()\n",
    "    CA_Asia_works_50 = response_50.json()\n",
    "    #pprint.pprint(CA_Asia_works_50['meta'])\n",
    "    all_works += CA_Asia_works_50['results']\n",
    "    \n",
    "    # print the process\n",
    "    print(\"Progress: %u of %u\" % (len(all_works), count_50),end=\"\\r\")\n",
    "print(str(len(all_works)) + ' done!')"
   ]
  },
  {
   "cell_type": "markdown",
   "id": "2df35b78-105f-4554-98b6-4ca4e529515e",
   "metadata": {},
   "source": [
    "**When `next_cursor == None`, we've queried all the data.**"
   ]
  },
  {
   "cell_type": "code",
   "execution_count": 39,
   "id": "7eb91699-2ec2-4013-b0d4-15c927f802de",
   "metadata": {},
   "outputs": [
    {
     "name": "stdout",
     "output_type": "stream",
     "text": [
      "260973\n"
     ]
    }
   ],
   "source": [
    "print(len(all_works))"
   ]
  },
  {
   "cell_type": "markdown",
   "id": "cd888723-e38f-4203-af15-d336d30d900e",
   "metadata": {},
   "source": [
    "#### 2.4.2. The Last 2 Asian Countries\n",
    "\n",
    "The method to get the rest of the data is the same. We first append the queried data to the `all_works_2` list and combine it with `all_works`, in case something goes wrong at this step."
   ]
  },
  {
   "cell_type": "code",
   "execution_count": 57,
   "id": "5179aebe-5422-42fa-b5d6-a0fdc49c1e38",
   "metadata": {},
   "outputs": [
    {
     "name": "stdout",
     "output_type": "stream",
     "text": [
      "903 done! 903 of 903\n"
     ]
    }
   ],
   "source": [
    "all_works_2 = [] + CA_Asia_works_2['results']\n",
    "cursor = '*'\n",
    "# while the cursor is not NULL at the last page (NOT NULL)\n",
    "while CA_Asia_works_2['meta']['next_cursor']:\n",
    "    # get the 200 works from next page\n",
    "    cursor = CA_Asia_works_2['meta']['next_cursor']\n",
    "    next_page_url_2 = works_cursor_url_2[:-1] + cursor\n",
    "    \n",
    "    response_2 = requests.get(next_page_url_2)\n",
    "    response_2.raise_for_status()\n",
    "    CA_Asia_works_2 = response_2.json()\n",
    "    all_works_2 += CA_Asia_works_2['results']\n",
    "    \n",
    "    # print the process\n",
    "    print(\"Progress: %u of %u\" % (len(all_works_2), count_2),end=\"\\r\")\n",
    "print(str(len(all_works_2)) + ' done!')"
   ]
  },
  {
   "cell_type": "markdown",
   "id": "3b877604-56e3-460a-b716-775fc21ef105",
   "metadata": {},
   "source": [
    "#### 2.4.3. Integrate The Two Lists of Data\n",
    "\n",
    "We integrate the two list of data and export the data for future use. "
   ]
  },
  {
   "cell_type": "code",
   "execution_count": 74,
   "id": "f61172ad-14a4-4bd8-a001-4cccffa2810c",
   "metadata": {},
   "outputs": [
    {
     "name": "stdout",
     "output_type": "stream",
     "text": [
      "The data is queried in 2022-08-17 22:08:08.540042\n"
     ]
    }
   ],
   "source": [
    "import datetime\n",
    "now = datetime.datetime.now()\n",
    "print(f\"The data is queried in {now}\")"
   ]
  },
  {
   "cell_type": "code",
   "execution_count": 44,
   "id": "62c1bd0d-7c8e-44c7-9c77-6b86d472b0f9",
   "metadata": {},
   "outputs": [
    {
     "data": {
      "text/plain": [
       "261876"
      ]
     },
     "execution_count": 44,
     "metadata": {},
     "output_type": "execute_result"
    }
   ],
   "source": [
    "all_works_52 = all_works + all_works_2\n",
    "len(all_works_52)"
   ]
  },
  {
   "cell_type": "code",
   "execution_count": null,
   "id": "30c2d252-a8aa-49b6-ae49-23f9f6b651c1",
   "metadata": {},
   "outputs": [],
   "source": [
    "with open('Asia_CA_Collaboration.json', 'w', encoding='utf-8') as f:\n",
    "    json.dump(all_works_52, f, ensure_ascii=False, indent=4)"
   ]
  },
  {
   "cell_type": "markdown",
   "id": "c0cc52b3-4d3c-4f45-90d9-393549cce14d",
   "metadata": {},
   "source": [
    "**The kernel crashed when exporting the data. We will do our research with the partially exported data. The publications should be sorted in inverse chronological order.**"
   ]
  },
  {
   "cell_type": "markdown",
   "id": "f39bf1a8-3cf3-49d0-89b4-d6e369cac9d1",
   "metadata": {},
   "source": [
    "The next step is to check the quality and validity of the data."
   ]
  },
  {
   "cell_type": "markdown",
   "id": "412b4856-333a-47fa-9ad7-dd9a0c389024",
   "metadata": {},
   "source": [
    "<br><br><br>"
   ]
  },
  {
   "cell_type": "markdown",
   "id": "f001240c-d44c-40f6-9ee7-f0e3199e45a1",
   "metadata": {},
   "source": [
    "<br><br><br>"
   ]
  },
  {
   "cell_type": "markdown",
   "id": "d54a1dad-033d-4dd1-8090-01510ded19b3",
   "metadata": {},
   "source": [
    "## 3. Data Validity and Quality"
   ]
  },
  {
   "cell_type": "markdown",
   "id": "35016457-78d7-4e8a-b67c-2804d7429a7f",
   "metadata": {},
   "source": [
    "**Load The Partially Exported Data**"
   ]
  },
  {
   "cell_type": "code",
   "execution_count": null,
   "id": "537f694e-3871-4406-bd87-9c02af93af1a",
   "metadata": {},
   "outputs": [],
   "source": [
    "# load the partially exported data\n",
    "\n",
    "import json\n",
    "with open('Asia_CA_Collaboration.json', 'r') as f:\n",
    "    partial_data = json.load(f)"
   ]
  },
  {
   "cell_type": "code",
   "execution_count": null,
   "id": "0a1b05b7-76ec-473f-a0e2-26f256e870a8",
   "metadata": {},
   "outputs": [],
   "source": [
    "print(len(partial_data))"
   ]
  },
  {
   "cell_type": "code",
   "execution_count": 390,
   "id": "07bd1619-e3f1-4f1d-85e3-f61e3451bc23",
   "metadata": {},
   "outputs": [],
   "source": [
    "# conver the Json file to data frame\n",
    "\n",
    "#from pandas import json_normalize\n",
    "\n",
    "#json_normalize(all_works[:50])"
   ]
  },
  {
   "cell_type": "code",
   "execution_count": null,
   "id": "8bfccb0e-4a43-48e8-a7cb-9422433f45d9",
   "metadata": {},
   "outputs": [],
   "source": []
  },
  {
   "cell_type": "code",
   "execution_count": null,
   "id": "19fd0f44-b091-4b3a-a0aa-3ae904ff82c1",
   "metadata": {},
   "outputs": [],
   "source": []
  },
  {
   "cell_type": "markdown",
   "id": "d163cfe7-3fef-4541-a6e9-2aba3a8af1de",
   "metadata": {},
   "source": [
    "The features below are what we should validate and examine to improve the data quality."
   ]
  },
  {
   "cell_type": "code",
   "execution_count": 334,
   "id": "5c93c50e-c0c4-43fc-95c6-ea5ba743f975",
   "metadata": {},
   "outputs": [
    {
     "data": {
      "text/plain": [
       "dict_keys(['id', 'doi', 'title', 'display_name', 'publication_year', 'publication_date', 'ids', 'host_venue', 'type', 'open_access', 'authorships', 'cited_by_count', 'biblio', 'is_retracted', 'is_paratext', 'concepts', 'mesh', 'alternate_host_venues', 'referenced_works', 'related_works', 'abstract_inverted_index', 'cited_by_api_url', 'counts_by_year', 'updated_date', 'created_date'])"
      ]
     },
     "execution_count": 334,
     "metadata": {},
     "output_type": "execute_result"
    }
   ],
   "source": [
    "all_works[0].keys()"
   ]
  },
  {
   "cell_type": "markdown",
   "id": "632677dd-066c-4137-a8ae-a2a649098375",
   "metadata": {},
   "source": [
    "### 3.1. Number of Institutions"
   ]
  },
  {
   "cell_type": "markdown",
   "id": "9ec8cf7e-cb81-4abb-b43e-55f9764c3537",
   "metadata": {},
   "source": [
    "**🔻 Challenge 2: There are authors that have more than one institutions (affiliations)**"
   ]
  },
  {
   "cell_type": "markdown",
   "id": "86718a44-c43c-4497-a46c-2f4e6c76eac9",
   "metadata": {},
   "source": [
    "Let's check the distribution of the number of institutions of the authors:"
   ]
  },
  {
   "cell_type": "code",
   "execution_count": 319,
   "id": "2b856bcc-50ed-41fc-8903-47ed1600023f",
   "metadata": {},
   "outputs": [
    {
     "name": "stdout",
     "output_type": "stream",
     "text": [
      "defaultdict(<class 'int'>, {1: 1533963, 2: 70173, 3: 7248, 0: 165518, 4: 694, 5: 154, 6: 38, 10: 12, 7: 9, 8: 1, 17: 10, 36: 4, 25: 1})\n"
     ]
    }
   ],
   "source": [
    "from collections import defaultdict, OrderedDict\n",
    "num_institutions = defaultdict(int)\n",
    "for i in range(len(all_works)):\n",
    "    for author in all_works[i]['authorships']:\n",
    "        num_institutions[len(author['institutions'])] += 1\n",
    "print(num_institutions)"
   ]
  },
  {
   "cell_type": "code",
   "execution_count": 330,
   "id": "39704ad8-1afd-4b74-8579-6590959249f6",
   "metadata": {},
   "outputs": [
    {
     "data": {
      "text/plain": [
       "[<matplotlib.lines.Line2D at 0x7f8213160fa0>]"
      ]
     },
     "execution_count": 330,
     "metadata": {},
     "output_type": "execute_result"
    },
    {
     "data": {
      "image/png": "[encoded data removed]",
      "text/plain": [
       "<Figure size 432x288 with 1 Axes>"
      ]
     },
     "metadata": {
      "needs_background": "light"
     },
     "output_type": "display_data"
    }
   ],
   "source": [
    "import matplotlib.pyplot as plt \n",
    "\n",
    "# Sort the dict by key for visualization\n",
    "num_institutions_sorted = OrderedDict(sorted(num_institutions.items()))\n",
    "\n",
    "plt.plot(num_institutions_sorted.keys(),num_institutions_sorted.values())"
   ]
  },
  {
   "cell_type": "markdown",
   "id": "e17ad8ec-aea6-4750-ad86-a5fdcfc9fdbf",
   "metadata": {},
   "source": [
    "<br><br><br>"
   ]
  },
  {
   "cell_type": "markdown",
   "id": "a0bdd635-af6f-49d3-93b7-c07ae05bd5ed",
   "metadata": {},
   "source": [
    "**🟡 invalid data: There are authors that have 0 affiliations**"
   ]
  },
  {
   "cell_type": "markdown",
   "id": "8e94b814-f9f8-42ed-ac26-1ec0a0aabd8c",
   "metadata": {},
   "source": [
    "### 3.2. Publication Year"
   ]
  },
  {
   "cell_type": "code",
   "execution_count": 332,
   "id": "0d4c1b5a-446d-4557-b2bd-0f5d184085b9",
   "metadata": {},
   "outputs": [
    {
     "name": "stdout",
     "output_type": "stream",
     "text": [
      "defaultdict(<class 'int'>, {2024: 2, 2023: 7, 2022: 14686, 2021: 29758, 2020: 25753, 2019: 21804, 2018: 10590})\n"
     ]
    }
   ],
   "source": [
    "publication_year = defaultdict(int)\n",
    "\n",
    "for i in range(len(all_works)):\n",
    "    publication_year[all_works[i]['publication_year']] += 1\n",
    "print(publication_year)"
   ]
  },
  {
   "cell_type": "code",
   "execution_count": 333,
   "id": "06d30137-f639-4eca-8b5c-8eda703cc0c0",
   "metadata": {},
   "outputs": [
    {
     "data": {
      "text/plain": [
       "[<matplotlib.lines.Line2D at 0x7f822641cc70>]"
      ]
     },
     "execution_count": 333,
     "metadata": {},
     "output_type": "execute_result"
    },
    {
     "data": {
      "image/png": "[encoded data removed]",
      "text/plain": [
       "<Figure size 432x288 with 1 Axes>"
      ]
     },
     "metadata": {
      "needs_background": "light"
     },
     "output_type": "display_data"
    }
   ],
   "source": [
    "# Sort the dict by key for visualization\n",
    "publication_year_sorted = OrderedDict(sorted(publication_year.items()))\n",
    "\n",
    "plt.plot(publication_year_sorted.keys(),publication_year_sorted.values())"
   ]
  },
  {
   "cell_type": "markdown",
   "id": "deef8e01-09e4-4070-b998-dcb613232b7f",
   "metadata": {},
   "source": [
    "**🟡 invalid data: There are `publication_year` values greater than 2022**\n",
    "\n",
    "**🟢 We need to filter out those works whose `publication_year` is greater than 2022**"
   ]
  },
  {
   "cell_type": "markdown",
   "id": "6b0e524b-0034-4616-bf79-a65226d658f0",
   "metadata": {},
   "source": [
    "<br><br><br>"
   ]
  },
  {
   "cell_type": "markdown",
   "id": "44635878-abb7-4b6e-83e3-b9ef4effc7c7",
   "metadata": {},
   "source": [
    "### 3.3. `is_retracted`"
   ]
  },
  {
   "cell_type": "code",
   "execution_count": 335,
   "id": "7d9ab310-1409-4f45-82d9-73de31319ee0",
   "metadata": {},
   "outputs": [
    {
     "name": "stdout",
     "output_type": "stream",
     "text": [
      "defaultdict(<class 'int'>, {False: 102577, True: 23})\n"
     ]
    }
   ],
   "source": [
    "is_retracted = defaultdict(int)\n",
    "\n",
    "for i in range(len(all_works)):\n",
    "    is_retracted[all_works[i]['is_retracted']] += 1\n",
    "print(is_retracted)"
   ]
  },
  {
   "cell_type": "markdown",
   "id": "f731ccd7-79bf-41cc-8bbd-90da6c2baaa7",
   "metadata": {},
   "source": [
    "**🟡 invalid data: There are 23 works that have been retracted.**"
   ]
  },
  {
   "cell_type": "markdown",
   "id": "03a22537-5845-4bbf-a1c9-95b370999fd0",
   "metadata": {},
   "source": [
    "<br><br><br>"
   ]
  },
  {
   "cell_type": "markdown",
   "id": "99d8f403-a666-4e08-b004-c5636191bcc2",
   "metadata": {},
   "source": [
    "### 3.4. Concepts of The Works"
   ]
  },
  {
   "cell_type": "code",
   "execution_count": 343,
   "id": "bca0d05e-bc78-408b-869b-1decb8fdb4a1",
   "metadata": {},
   "outputs": [
    {
     "name": "stdout",
     "output_type": "stream",
     "text": [
      "39583\n"
     ]
    }
   ],
   "source": [
    "concepts_count = defaultdict(int)\n",
    "\n",
    "for i in range(len(all_works)):\n",
    "    for j in range(len(all_works[i]['concepts'])):\n",
    "        concept = all_works[i]['concepts'][j]['display_name']\n",
    "        concepts_count[concept] += 1\n",
    "        "
   ]
  },
  {
   "cell_type": "code",
   "execution_count": 353,
   "id": "87d87d55-81d6-41dd-9669-f9a232b5d10c",
   "metadata": {},
   "outputs": [
    {
     "name": "stdout",
     "output_type": "stream",
     "text": [
      "There are 39583 concepts in these works.\n"
     ]
    }
   ],
   "source": [
    "print(f'There are {len(concepts_count)} concepts in these works.')"
   ]
  },
  {
   "cell_type": "code",
   "execution_count": 345,
   "id": "9447e61d-dd74-453c-b640-38fb16ffa260",
   "metadata": {},
   "outputs": [],
   "source": [
    "concepts_count_sorted = sorted(concepts_count.items(), key=lambda x:x[1])"
   ]
  },
  {
   "cell_type": "code",
   "execution_count": 351,
   "id": "f57cf47d-92b2-4d89-a6b7-5087e6133c50",
   "metadata": {},
   "outputs": [
    {
     "data": {
      "text/plain": [
       "[('Algorithm', 2866),\n",
       " ('Composite material', 2955),\n",
       " ('Oncology', 3077),\n",
       " ('Engineering', 3194),\n",
       " ('Population', 3616),\n",
       " ('Nanotechnology', 4021),\n",
       " ('Geology', 4209),\n",
       " ('Business', 4341),\n",
       " ('Chemical engineering', 4573),\n",
       " ('Mathematics', 4886),\n",
       " ('Physics', 4992),\n",
       " ('Psychology', 6398),\n",
       " ('Artificial intelligence', 7119),\n",
       " ('Environmental science', 7806),\n",
       " ('Internal medicine', 10174),\n",
       " ('Chemistry', 10962),\n",
       " ('Biology', 11175),\n",
       " ('Materials science', 13614),\n",
       " ('Computer science', 24194),\n",
       " ('Medicine', 24565)]"
      ]
     },
     "execution_count": 351,
     "metadata": {},
     "output_type": "execute_result"
    }
   ],
   "source": [
    "concepts_count_sorted[-20:]"
   ]
  },
  {
   "cell_type": "markdown",
   "id": "a2763f6d-f299-445b-bbd0-2ab7a102f29d",
   "metadata": {},
   "source": [
    "<br><br><br>"
   ]
  },
  {
   "cell_type": "markdown",
   "id": "0ee68b39-9195-4812-97c9-33bf1c20836a",
   "metadata": {},
   "source": [
    "### 3.5. [Predatory Journals](https://www.ohri.ca/journalology/one-stop-shop-predatory-journals)\n",
    "\n",
    "“Predatory journals & publishers are entities that prioritize self-interest at the expense of scholarship and are characterized by false or misleading information, deviation from best editorial and publication practices, a lack of transparency, and/or the use of aggressive and indiscriminate solicitation practices.”\n",
    "\n",
    "**🔻 Challenge 3: For the sake of data quality, we should filter out those works from Predatory Journals.**"
   ]
  },
  {
   "cell_type": "code",
   "execution_count": 368,
   "id": "071d95e3-7b07-48e0-be90-b945b70893ce",
   "metadata": {
    "tags": []
   },
   "outputs": [],
   "source": [
    "host_venue_count = defaultdict(int)\n",
    "\n",
    "for i in range(len(all_works)):\n",
    "    host_venue_count[all_works[i]['host_venue']['display_name']] += 1"
   ]
  },
  {
   "cell_type": "code",
   "execution_count": 359,
   "id": "2e547e47-2fb3-4654-bc1b-52f515a91831",
   "metadata": {},
   "outputs": [
    {
     "name": "stdout",
     "output_type": "stream",
     "text": [
      "There are 14255 venues hosting these works.\n"
     ]
    }
   ],
   "source": [
    "print(f'There are {len(host_venue_count)} venues hosting these works.')"
   ]
  },
  {
   "cell_type": "code",
   "execution_count": 360,
   "id": "85cc7f69-571a-4407-9cb4-0fdd15a3d653",
   "metadata": {},
   "outputs": [],
   "source": [
    "host_venue_count_sorted = sorted(host_venue_count.items(), key=lambda x:x[1])"
   ]
  },
  {
   "cell_type": "code",
   "execution_count": 363,
   "id": "545cd721-6f91-4c19-b6cd-b95d09794780",
   "metadata": {},
   "outputs": [
    {
     "data": {
      "text/plain": [
       "[('Chemical Engineering Journal', 260),\n",
       " ('International Journal of Environmental Research and Public Health', 281),\n",
       " ('Angewandte Chemie', 308),\n",
       " ('Blood', 320),\n",
       " ('medRxiv', 322),\n",
       " ('Journal of Cleaner Production', 333),\n",
       " ('Monthly Notices of the Royal Astronomical Society', 342),\n",
       " ('IEEE Internet of Things Journal', 359),\n",
       " ('IEEE Transactions on Vehicular Technology', 381),\n",
       " ('Physical review', 433),\n",
       " ('PLOS ONE', 440),\n",
       " ('Lecture Notes in Computer Science', 445),\n",
       " ('Science of The Total Environment', 472),\n",
       " ('Nature Communications', 556),\n",
       " ('Journal of Clinical Oncology', 640),\n",
       " ('IEEE Access', 678),\n",
       " ('Scientific Reports', 759),\n",
       " ('bioRxiv', 1040),\n",
       " ('Social Science Research Network', 1129),\n",
       " (None, 4772)]"
      ]
     },
     "execution_count": 363,
     "metadata": {},
     "output_type": "execute_result"
    }
   ],
   "source": [
    "host_venue_count_sorted[-20:]"
   ]
  },
  {
   "cell_type": "markdown",
   "id": "93295922-5700-4a27-9a88-31c69aa666e9",
   "metadata": {},
   "source": [
    "**🟡 invalid data: There are 4772 works' hosting venues are `None`.**"
   ]
  },
  {
   "cell_type": "markdown",
   "id": "e8aee8dc-0356-4174-acf8-3e9d5adbfec1",
   "metadata": {},
   "source": [
    "<br><br><br>"
   ]
  },
  {
   "cell_type": "markdown",
   "id": "86c4bd93-01aa-419c-bb88-f0b568fce837",
   "metadata": {},
   "source": [
    "### 3.6. [Types of The Works](https://docs.openalex.org/about-the-data/work#type)\n",
    "\n",
    "The type of a work may represent the quality and rigor of the work. "
   ]
  },
  {
   "cell_type": "code",
   "execution_count": 366,
   "id": "416dde7c-569d-4827-8a6e-0a551fc32764",
   "metadata": {},
   "outputs": [],
   "source": [
    "type_count = defaultdict(int)\n",
    "\n",
    "for i in range(len(all_works)):\n",
    "    type_count[all_works[i]['type']] += 1"
   ]
  },
  {
   "cell_type": "code",
   "execution_count": 367,
   "id": "2df14a7a-3775-468b-ab85-16492965d7da",
   "metadata": {},
   "outputs": [
    {
     "name": "stdout",
     "output_type": "stream",
     "text": [
      "defaultdict(<class 'int'>, {'journal-article': 87360, 'book-chapter': 2743, 'proceedings-article': 6217, 'posted-content': 5016, 'peer-review': 101, 'report': 58, 'book': 78, 'other': 96, 'dataset': 17, 'proceedings': 8, 'monograph': 12, None: 865, 'reference-entry': 15, 'proceedings-series': 1, 'report-series': 5, 'standard': 2, 'component': 4, 'journal-issue': 2})\n"
     ]
    }
   ],
   "source": [
    "print(type_count)"
   ]
  },
  {
   "cell_type": "markdown",
   "id": "eba6fdc5-088e-46b4-ac4b-facda2d80c6b",
   "metadata": {},
   "source": [
    "**🟡 invalid data: There are 865 works' types are `None`.**"
   ]
  },
  {
   "cell_type": "markdown",
   "id": "d56b2ee7-5e31-4e5b-95b2-2b43b3510f29",
   "metadata": {},
   "source": [
    "<br><br><br>"
   ]
  },
  {
   "cell_type": "markdown",
   "id": "d9b75e8d-361d-4e89-a964-0fe0ffa188f1",
   "metadata": {},
   "source": [
    "## 4. Exploratory Questions and Visualization"
   ]
  },
  {
   "cell_type": "markdown",
   "id": "9257cfa2-7bd5-4149-9018-36bad77ad0cd",
   "metadata": {},
   "source": [
    "### 4.1. What is the volume and growth trend of Canada and Asia research collaborations? (`Line Graph`, may group by `countries`)"
   ]
  },
  {
   "cell_type": "markdown",
   "id": "a45aca89-1f39-4221-9f36-75b11fabcfdd",
   "metadata": {},
   "source": [
    "### 4.2. What is the trend of topics/concepts over time?  (`Line Graph` + `Word Cloud`, may filter the top 10 topics)"
   ]
  },
  {
   "cell_type": "markdown",
   "id": "25bd2fd8-40e5-4a19-9ff2-2397db700483",
   "metadata": {},
   "source": [
    "### 4.3. Which venues host the most collaborations between Canada and Asia? (`Bar Graph`)"
   ]
  },
  {
   "cell_type": "markdown",
   "id": "0bec46ee-63ee-4c6d-8e63-783961a10e94",
   "metadata": {},
   "source": [
    "### 4.4. Which institutions in Canada have more collaboration with Asia? (`Bar Graph`, or show the trend with `Line Graph`)"
   ]
  },
  {
   "cell_type": "markdown",
   "id": "dd039d4d-b380-4ed0-92ce-342a027203ea",
   "metadata": {},
   "source": [
    "### 4.5. Which institutions in Asia have more collaboration with Canada? (`Bar Graph`, or show the trend with `Line Graph`)"
   ]
  },
  {
   "cell_type": "markdown",
   "id": "04ab8941-7e47-4afc-81e4-a341b2e4ccfa",
   "metadata": {},
   "source": [
    "### 4.6. How's the co-citation network like between Canada and Asia authors? (`Co-citation graph generator`)"
   ]
  },
  {
   "cell_type": "markdown",
   "id": "bd1ebc2a-aa93-451c-9d19-acf665f93663",
   "metadata": {},
   "source": [
    "### 4.7. What's the percentage of Open Access publications? (`Pie Graph`)"
   ]
  }
 ],
 "metadata": {
  "kernelspec": {
   "display_name": "Python 3 (ipykernel)",
   "language": "python",
   "name": "python3"
  },
  "language_info": {
   "codemirror_mode": {
    "name": "ipython",
    "version": 3
   },
   "file_extension": ".py",
   "mimetype": "text/x-python",
   "name": "python",
   "nbconvert_exporter": "python",
   "pygments_lexer": "ipython3",
   "version": "3.9.5"
  }
 },
 "nbformat": 4,
 "nbformat_minor": 5
}
